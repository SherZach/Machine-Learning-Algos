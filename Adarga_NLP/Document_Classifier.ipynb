{
 "metadata": {
  "language_info": {
   "codemirror_mode": {
    "name": "ipython",
    "version": 3
   },
   "file_extension": ".py",
   "mimetype": "text/x-python",
   "name": "python",
   "nbconvert_exporter": "python",
   "pygments_lexer": "ipython3",
   "version": "3.8.6-final"
  },
  "orig_nbformat": 2,
  "kernelspec": {
   "name": "python3",
   "display_name": "Python 3.8.6 64-bit",
   "metadata": {
    "interpreter": {
     "hash": "bf129b43a22b2b0045d7828343cbf0892ffe50f28827e6107525999ad0fe9e10"
    }
   }
  }
 },
 "nbformat": 4,
 "nbformat_minor": 2,
 "cells": [
  {
   "source": [
    "# Document Classification Project\n"
   ],
   "cell_type": "markdown",
   "metadata": {}
  },
  {
   "cell_type": "code",
   "execution_count": 2,
   "metadata": {},
   "outputs": [],
   "source": [
    "# set up libraries \n",
    "import pandas as pd\n",
    "import glob\n",
    "import os\n",
    "from bs4 import BeautifulSoup\n",
    "import requests\n"
   ]
  },
  {
   "cell_type": "code",
   "execution_count": 5,
   "metadata": {
    "tags": []
   },
   "outputs": [
    {
     "output_type": "stream",
     "name": "stdout",
     "text": [
      "                                                 Text              Label\n0   C:/Users/gobli/Documents/AI CORE/Machine-Learn...  Analytical_Report\n1   C:/Users/gobli/Documents/AI CORE/Machine-Learn...  Analytical_Report\n2   C:/Users/gobli/Documents/AI CORE/Machine-Learn...  Analytical_Report\n3   C:/Users/gobli/Documents/AI CORE/Machine-Learn...  Analytical_Report\n4   C:/Users/gobli/Documents/AI CORE/Machine-Learn...  Analytical_Report\n..                                                ...                ...\n65  C:/Users/gobli/Documents/AI CORE/Machine-Learn...   Situation_Report\n66  C:/Users/gobli/Documents/AI CORE/Machine-Learn...   Situation_Report\n67  C:/Users/gobli/Documents/AI CORE/Machine-Learn...   Situation_Report\n68  C:/Users/gobli/Documents/AI CORE/Machine-Learn...   Situation_Report\n69  C:/Users/gobli/Documents/AI CORE/Machine-Learn...   Situation_Report\n\n[157 rows x 2 columns]\n"
     ]
    }
   ],
   "source": [
    "# Get data\n",
    "df = pd.DataFrame(columns=['Text', 'Label'])\n",
    "main_path = r'C:/Users/gobli/Documents/AI CORE/Machine-Learning-Algos/Adarga_NLP/Data/'\n",
    "end_path = ['Analytical_Report', 'Incident_Report', 'Situation_Report']\n",
    "for end in end_path:\n",
    "    path = main_path + end\n",
    "    all_files = glob.glob(os.path.join(path, \"*.txt\")) \n",
    "    # print(all_files[0])\n",
    "    data = [[f, end] for f in all_files]\n",
    "    # print(pd.DataFrame(data, columns=['Text', 'Label']))\n",
    "    df = df.append(pd.DataFrame(data, columns=['Text', 'Label']))\n",
    "print(df)\n",
    "\n"
   ]
  },
  {
   "cell_type": "code",
   "execution_count": 4,
   "metadata": {
    "tags": []
   },
   "outputs": [
    {
     "output_type": "stream",
     "name": "stdout",
     "text": [
      "Sucess: 0 https://issafrica.org/iss-today/time-to-tackle-violence-against-women-in-mali\n",
      "Sucess: 1 http://www.understandingwar.org/backgrounder/russia-review-putins-%E2%80%9Cpeacekeepers%E2%80%9D-will-support-russian-wars\n",
      "Sucess: 2 http://www.understandingwar.org/backgrounder/russian-president-putin-wins-upset-victory-nagorno-karabakh\n",
      "Sucess: 3 http://www.understandingwar.org/backgrounder/warning-intelligence-update-iran-increases-pressure-us-forces-iraq\n",
      "Write problem: 3\n",
      "Sucess: 4 http://www.understandingwar.org/backgrounder/russia-turkey-competition-escalates-across-theaters\n",
      "Sucess: 5 https://www.middleeasteye.net/news/uk-foreign-aid-cut-impact-middle-east-yemen-syria\n",
      "Sucess: 6 https://www.middleeasteye.net/opinion/israel-palestine-deal-century-biden-end\n",
      "Sucess: 7 https://www.middleeasteye.net/news/israel-saudi-arabia-netanyahu-mbs-secret-meeting-meaning\n",
      "Sucess: 8 https://www.defenseindustrydaily.com/f18-hornet-fleets-keeping-em-flying-02816/\n",
      "Sucess: 9 https://www.criticalthreats.org/briefs/gulf-of-aden-security-review/gulf-of-aden-security-review-august-19-2020\n",
      "Sucess: 10 https://www.criticalthreats.org/briefs/gulf-of-aden-security-review/gulf-of-aden-security-review-august-17-2020\n",
      "Sucess: 11 https://www.criticalthreats.org/briefs/gulf-of-aden-security-review/gulf-of-aden-security-review-august-07-2020\n",
      "Sucess: 12 https://www.criticalthreats.org/briefs/gulf-of-aden-security-review/gulf-of-aden-security-review-july-1-2020\n",
      "Sucess: 13 https://www.criticalthreats.org/briefs/gulf-of-aden-security-review/gulf-of-aden-security-review-may-20-2020\n",
      "Sucess: 14 https://www.criticalthreats.org/briefs/gulf-of-aden-security-review/gulf-of-aden-security-review-may-18-2020\n",
      "Sucess: 15 http://www.warfare.today/2018/05/01/rise-of-the-islamic-state-in-west-africa-iswa/\n",
      "Write problem: 15\n",
      "Sucess: 16 http://www.warfare.today/2017/07/24/operation-trenton-the-british-army-in-south-sudan/\n",
      "Sucess: 17 http://www.warfare.today/2017/05/12/operation-toral-the-british-army-in-afghanistan/\n",
      "Sucess: 18 http://www.warfare.today/2017/01/24/sitrep-ivory-coast-mutiny/\n",
      "Sucess: 19 https://www.criticalthreats.org/briefs/pakistan-security-brief/pakistan-security-brief-august-31-2011\n",
      "Sucess: 20 https://www.criticalthreats.org/briefs/iran-file/iran-file-january-29-2020\n",
      "Sucess: 21 https://www.criticalthreats.org/briefs/iran-file/iran-file-december-16-2019\n",
      "Sucess: 23 https://www.bbc.co.uk/news/world-europe-54533486\n",
      "Sucess: 24 https://www.bbc.co.uk/sport/football/54528942\n",
      "Sucess: 25 https://www.bbc.co.uk/news/world-europe-54522203\n",
      "Sucess: 26 https://www.bbc.co.uk/news/av/world-54533860\n",
      "Sucess: 27 https://www.bbc.co.uk/news/world-asia-54538508\n",
      "Sucess: 28 https://www.bbc.co.uk/news/world-asia-54538679\n",
      "Write problem: 28\n",
      "Sucess: 29 https://www.expressandstar.com/news/local-hubs/sandwell/wednesbury/2020/10/13/teenage-terror-suspect-arrested-in-wednesbury/\n",
      "Sucess: 30 https://www.expressandstar.com/news/local-hubs/sandwell/west-bromwich/2020/10/08/eight-arrested-and-weapons-seized-after-disorder-in-west-bromwich-town-centre/\n",
      "Sucess: 31 https://news.sky.com/story/terrorist-and-radicalised-inmate-convicted-of-trying-to-kill-guard-at-top-security-jail-12098497\n",
      "Sucess: 32 https://www.newyorker.com/magazine/2013/09/30/the-shadow-commander\n",
      "Write problem: 32\n",
      "Sucess: 33 https://www.newyorker.com/magazine/2020/08/31/can-bidens-center-hold\n",
      "Write problem: 33\n",
      "Sucess: 34 https://www.bbc.co.uk/news/world-middle-east-40354415\n",
      "Sucess: 35 https://www.politico.com/magazine/story/2017/06/13/saudi-arabia-middle-east-donald-trump-215254\n",
      "Sucess: 36 https://www.politico.com/magazine/story/2019/10/31/saudi-arabia-ambassador-us-relations-229866\n",
      "Sucess: 37 https://www.politico.com/magazine/story/2019/09/30/fiona-hill-russia-trump-adviser-228758\n",
      "Sucess: 38 https://www.politico.com/magazine/story/2019/05/12/richard-holbrooke-biography-review-history-analysis-226871\n",
      "Sucess: 39 https://www.politico.com/magazine/story/2019/04/21/democrats-foreign-policy-tom-malinowski-226703\n",
      "Sucess: 40 https://www.adl.org/resources/profiles/al-qaeda\n",
      "Sucess: 41 https://www.adl.org/resources/profiles/anonghost-team\n",
      "Sucess: 42 https://www.bbc.co.uk/news/world-africa-15336689\n",
      "Sucess: 43 https://www.adl.org/resources/backgrounders/nationalist-social-club-nsc\n",
      "Sucess: 44 https://www.adl.org/resources/backgrounders/atomwaffen-division-awd\n",
      "Sucess: 45 https://www.adl.org/resources/backgrounders/legion-of-saint-ambrose-losa\n",
      "Sucess: 46 https://www.adl.org/resources/backgrounders/neturei-karta\n",
      "Sucess: 47 https://www.adl.org/resources/backgrounders/abbas-hamideh\n",
      "Sucess: 48 https://www.adl.org/resources/backgrounders/new-jersey-european-heritage-association-njeha\n",
      "Sucess: 49 https://www.adl.org/resources/backgrounders/keystone-state-skinheadskeystone-united\n",
      "Sucess: 50 https://www.adl.org/resources/backgrounders/loyal-white-knights-of-the-ku-klux-klan\n",
      "Sucess: 51 https://www.adl.org/resources/backgrounders/shield-wall-network-swn\n",
      "Sucess: 52 https://www.criticalthreats.org/analysis/profile-ahmad-umar-abu-ubaidah\n",
      "Sucess: 53 https://www.criticalthreats.org/analysis/profile-ahmed-abdi-godane-mukhtar-abu-zubair\n",
      "Sucess: 54 https://www.criticalthreats.org/analysis/profile-ibrahim-haji-jama-mead-ibrahim-al-afghani\n",
      "Sucess: 55 https://www.criticalthreats.org/analysis/profile-sheikh-mukhtar-robow-abu-mansur\n",
      "Sucess: 56 https://www.criticalthreats.org/analysis/profile-al-houthi-movement\n",
      "Sucess: 57 https://www.criticalthreats.org/analysis/profile-sheikh-hassan-dahir-aweys\n",
      "Sucess: 58 https://www.criticalthreats.org/analysis/profile-ahmed-abdi-godane-mukhtar-abu-zubair\n",
      "Sucess: 59 https://www.criticalthreats.org/briefs/threat-update/irans-ex-president-ahmadinejad-raises-the-stakes-against-the-political-establishment\n",
      "Sucess: 60 https://www.criticalthreats.org/analysis/profile-ali-mohamed-rage-ali-dhere\n",
      "Sucess: 61 https://www.dni.gov/nctc/groups/haqqani_network.html\n",
      "Sucess: 62 https://www.dni.gov/nctc/groups/abu_sayyaf.html\n",
      "Sucess: 63 https://www.dni.gov/nctc/groups/afghan_taliban.html\n",
      "Sucess: 64 https://www.dni.gov/nctc/groups/al_nusrah_front.html\n",
      "Sucess: 65 https://www.dni.gov/nctc/groups/ansar_bayt_al_maqdis.html\n",
      "Sucess: 66 https://www.dni.gov/nctc/groups/al_shabaab.html\n",
      "Sucess: 67 https://www.dni.gov/nctc/groups/ansar_al_sharia.html\n",
      "Sucess: 68 https://www.dni.gov/nctc/groups/aqap.html\n",
      "Sucess: 69 https://www.dni.gov/nctc/groups/aqim.html\n",
      "Sucess: 70 https://www.dni.gov/nctc/groups/al_qaida.html\n",
      "Sucess: 71 https://www.dni.gov/nctc/groups/boko_haram.html\n",
      "Sucess: 72 https://www.dni.gov/nctc/groups/hezb_e_islami.html\n",
      "Sucess: 73 https://www.dni.gov/nctc/groups/hizballah.html\n",
      "Sucess: 74 https://www.dni.gov/nctc/groups/hamas.html\n",
      "Sucess: 75 https://www.dni.gov/nctc/groups/jem.html\n",
      "Sucess: 76 https://www.dni.gov/nctc/groups/ji.html\n",
      "Sucess: 77 https://rewardsforjustice.net/english/talal_hamiyah.html\n",
      "Sucess: 78 https://rewardsforjustice.net/english/salman_salman.html\n",
      "Sucess: 79 https://rewardsforjustice.net/english/abubakar_shekau.html\n",
      "Sucess: 80 https://rewardsforjustice.net/english/atef_al_awlaki.html\n",
      "Sucess: 81 https://rewardsforjustice.net/english/abu_ubaidah.html\n",
      "Sucess: 82 https://rewardsforjustice.net/english/hassan_afgooye.html\n",
      "Sucess: 83 https://rewardsforjustice.net/english/salih_al_aruri.html\n",
      "Sucess: 84 https://rewardsforjustice.net/english/ali_atwa.html\n",
      "Sucess: 85 https://rewardsforjustice.net/english/ali_sayyid_al_bakri.html\n",
      "Sucess: 86 https://rewardsforjustice.net/english/ibrahim_al_banna.html\n",
      "Sucess: 87 https://rewardsforjustice.net/english/khalid_al_batarfi.html\n",
      "Sucess: 88 https://rewardsforjustice.net/english/faker_boussora.html\n",
      "Sucess: 89 https://rewardsforjustice.net/english/maalim_daud.html\n",
      "Sucess: 90 https://rewardsforjustice.net/english/jaber_elbaneh.html\n",
      "Sucess: 91 https://rewardsforjustice.net/english/abdelbasit_hamad.html\n",
      "Sucess: 92 https://rewardsforjustice.net/english/mohammed_hamadei.html\n",
      "Sucess: 93 https://rewardsforjustice.net/english/aziz_haqqani.html\n",
      "Sucess: 94 https://rewardsforjustice.net/english/khalil_haqqani.html\n",
      "Sucess: 95 https://rewardsforjustice.net/english/yahya_haqqani.html\n",
      "Sucess: 96 https://rewardsforjustice.net/english/khalil_harb.html\n",
      "Sucess: 97 https://rewardsforjustice.net/english/ali_el_hoorie.html\n",
      "Sucess: 98 https://rewardsforjustice.net/english/hasan_izz_al_din.html\n",
      "Sucess: 99 https://rewardsforjustice.net/english/mutaz_al_jaburi.html\n",
      "Sucess: 100 https://rewardsforjustice.net/english/sami_al_jaburi.html\n",
      "Sucess: 101 https://rewardsforjustice.net/english/ibrahim_jama.html\n",
      "Sucess: 102 https://rewardsforjustice.net/english/abderraouf_jdey.html\n",
      "Sucess: 103 https://rewardsforjustice.net/english/mahad_karate.html\n",
      "Sucess: 104 https://rewardsforjustice.net/english/murat_karayilan.html\n",
      "Sucess: 105 https://rewardsforjustice.net/english/hamad_el_khairy.html\n",
      "Sucess: 106 https://rewardsforjustice.net/english/fuad_khalaf.html\n",
      "Sucess: 107 https://rewardsforjustice.net/english/bashir_mahamoud.html\n",
      "Sucess: 108 https://rewardsforjustice.net/english/mohamed_makawi.html\n",
      "Sucess: 109 https://rewardsforjustice.net/english/abu_al_masri.html\n",
      "Sucess: 110 https://rewardsforjustice.net/english/jehad_mostafa.html\n",
      "Sucess: 111 https://rewardsforjustice.net/english/ahmad_al_mughassil.html\n",
      "Sucess: 112 https://rewardsforjustice.net/english/muhammad_al_munawar.html\n",
      "Sucess: 113 https://rewardsforjustice.net/english/abdelkarim_al_nasser.html\n",
      "Sucess: 114 https://rewardsforjustice.net/english/muhammad_ar_rahayyal.html\n",
      "Sucess: 115 https://rewardsforjustice.net/english/jamal_rahim.html\n",
      "Sucess: 116 https://rewardsforjustice.net/english/ramadan_shallah.html\n"
     ]
    }
   ],
   "source": [
    "docs = pd.read_csv(\"C:/Users/gobli/Documents/AI CORE/Machine-Learning-Algos/Adarga_NLP/Data/Data.csv\")\n",
    "docs.dropna(inplace=True)\n",
    "# print(docs)\n",
    "\n",
    "for i in range(len(docs)):\n",
    "    try:\n",
    "        r = requests.get(docs.iloc[i][0], timeout=10)\n",
    "    except:\n",
    "        print(\"Problem:\", i)\n",
    "        continue\n",
    "\n",
    "    if r.ok:\n",
    "        print(\"Sucess:\", i, docs.iloc[i][0])\n",
    "        soup = BeautifulSoup(r.content, 'html.parser')\n",
    "        with open(\"data/Reports/\" + str(i) + \".txt\", 'wt') as f:\n",
    "            text = \"\"\n",
    "            for element in soup.select('p'):\n",
    "                text += element.text + \"\\n\"\n",
    "            try:\n",
    "                f.write(text)\n",
    "            except:\n",
    "                print(\"Write problem:\", i)\n",
    "                continue\n"
   ]
  },
  {
   "cell_type": "code",
   "execution_count": null,
   "metadata": {},
   "outputs": [],
   "source": []
  }
 ]
}