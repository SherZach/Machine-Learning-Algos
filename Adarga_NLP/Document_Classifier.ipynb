{
 "metadata": {
  "language_info": {
   "codemirror_mode": {
    "name": "ipython",
    "version": 3
   },
   "file_extension": ".py",
   "mimetype": "text/x-python",
   "name": "python",
   "nbconvert_exporter": "python",
   "pygments_lexer": "ipython3",
   "version": "3.8.6-final"
  },
  "orig_nbformat": 2,
  "kernelspec": {
   "name": "python3",
   "display_name": "Python 3.8.6 64-bit",
   "metadata": {
    "interpreter": {
     "hash": "bf129b43a22b2b0045d7828343cbf0892ffe50f28827e6107525999ad0fe9e10"
    }
   }
  }
 },
 "nbformat": 4,
 "nbformat_minor": 2,
 "cells": [
  {
   "source": [
    "# Document Classification Project\n"
   ],
   "cell_type": "markdown",
   "metadata": {}
  },
  {
   "cell_type": "code",
   "execution_count": 13,
   "metadata": {},
   "outputs": [
    {
     "output_type": "display_data",
     "data": {
      "text/html": "        <script type=\"text/javascript\">\n        window.PlotlyConfig = {MathJaxConfig: 'local'};\n        if (window.MathJax) {MathJax.Hub.Config({SVG: {font: \"STIX-Web\"}});}\n        if (typeof require !== 'undefined') {\n        require.undef(\"plotly\");\n        requirejs.config({\n            paths: {\n                'plotly': ['https://cdn.plot.ly/plotly-latest.min']\n            }\n        });\n        require(['plotly'], function(Plotly) {\n            window._Plotly = Plotly;\n        });\n        }\n        </script>\n        "
     },
     "metadata": {}
    },
    {
     "output_type": "display_data",
     "data": {
      "text/html": "        <script type=\"text/javascript\">\n        window.PlotlyConfig = {MathJaxConfig: 'local'};\n        if (window.MathJax) {MathJax.Hub.Config({SVG: {font: \"STIX-Web\"}});}\n        if (typeof require !== 'undefined') {\n        require.undef(\"plotly\");\n        requirejs.config({\n            paths: {\n                'plotly': ['https://cdn.plot.ly/plotly-latest.min']\n            }\n        });\n        require(['plotly'], function(Plotly) {\n            window._Plotly = Plotly;\n        });\n        }\n        </script>\n        "
     },
     "metadata": {}
    }
   ],
   "source": [
    "# set up libraries \n",
    "import pandas as pd\n",
    "import numpy as np\n",
    "import glob\n",
    "import os\n",
    "from bs4 import BeautifulSoup\n",
    "import requests\n",
    "import spacy\n",
    "from spacy.lang.en import English\n",
    "from collections import Counter\n",
    "# modelling stuff\n",
    "from sklearn.svm import LinearSVC\n",
    "from sklearn.model_selection import train_test_split\n",
    "from sklearn.feature_extraction.text import CountVectorizer\n",
    "from sklearn.linear_model import LogisticRegression\n",
    "from sklearn.pipeline import Pipeline\n",
    "from sklearn.base import TransformerMixin\n",
    "# plotting stuff\n",
    "import chart_studio.plotly as py\n",
    "import plotly.graph_objects as go\n",
    "import cufflinks as cf\n",
    "import seaborn as sns\n",
    "import plotly.express as px\n",
    "%matplotlib inline\n",
    "\n",
    "from plotly.offline import download_plotlyjs, init_notebook_mode, plot, iplot\n",
    "init_notebook_mode(connected=True)\n",
    "cf.go_offline()\n"
   ]
  },
  {
   "cell_type": "code",
   "execution_count": 3,
   "metadata": {},
   "outputs": [
    {
     "output_type": "stream",
     "name": "stdout",
     "text": [
      "https://counteriedreport.com/egyptian-military-kills-77-terrorists-in-northern-sinai-report/\n"
     ]
    }
   ],
   "source": [
    "docs = pd.read_csv(\"C:/Users/gobli/Documents/AI CORE/Machine-Learning-Algos/Adarga_NLP/Data/Data2.csv\")\n",
    "docs.dropna(inplace=True)\n",
    "print(docs.iloc[22][0])"
   ]
  },
  {
   "cell_type": "code",
   "execution_count": 4,
   "metadata": {
    "tags": []
   },
   "outputs": [
    {
     "output_type": "stream",
     "name": "stdout",
     "text": [
      "0 <Response [200]>\n",
      "https://issafrica.org/iss-today/time-to-tackle-violence-against-women-in-mali\n",
      "1 <Response [200]>\n",
      "http://www.understandingwar.org/backgrounder/russia-review-putins-%E2%80%9Cpeacekeepers%E2%80%9D-will-support-russian-wars\n",
      "2 <Response [200]>\n",
      "http://www.understandingwar.org/backgrounder/russian-president-putin-wins-upset-victory-nagorno-karabakh\n",
      "3 <Response [200]>\n",
      "http://www.understandingwar.org/backgrounder/warning-intelligence-update-iran-increases-pressure-us-forces-iraq\n",
      "Write problem: 3\n",
      "4 <Response [200]>\n",
      "http://www.understandingwar.org/backgrounder/russia-turkey-competition-escalates-across-theaters\n",
      "5 <Response [200]>\n",
      "https://www.middleeasteye.net/news/uk-foreign-aid-cut-impact-middle-east-yemen-syria\n",
      "6 <Response [200]>\n",
      "https://www.middleeasteye.net/opinion/israel-palestine-deal-century-biden-end\n",
      "7 <Response [200]>\n",
      "https://www.middleeasteye.net/news/israel-saudi-arabia-netanyahu-mbs-secret-meeting-meaning\n",
      "8 <Response [200]>\n",
      "https://www.defenseindustrydaily.com/f18-hornet-fleets-keeping-em-flying-02816/\n",
      "9 <Response [200]>\n",
      "https://www.criticalthreats.org/briefs/gulf-of-aden-security-review/gulf-of-aden-security-review-august-19-2020\n",
      "10 <Response [200]>\n",
      "https://www.criticalthreats.org/briefs/gulf-of-aden-security-review/gulf-of-aden-security-review-august-17-2020\n",
      "11 <Response [200]>\n",
      "https://www.criticalthreats.org/briefs/gulf-of-aden-security-review/gulf-of-aden-security-review-august-07-2020\n",
      "12 <Response [200]>\n",
      "https://www.criticalthreats.org/briefs/gulf-of-aden-security-review/gulf-of-aden-security-review-july-1-2020\n",
      "13 <Response [200]>\n",
      "https://www.criticalthreats.org/briefs/gulf-of-aden-security-review/gulf-of-aden-security-review-may-20-2020\n",
      "14 <Response [200]>\n",
      "https://www.criticalthreats.org/briefs/gulf-of-aden-security-review/gulf-of-aden-security-review-may-18-2020\n",
      "15 <Response [200]>\n",
      "http://www.warfare.today/2018/05/01/rise-of-the-islamic-state-in-west-africa-iswa/\n",
      "Write problem: 15\n",
      "16 <Response [200]>\n",
      "http://www.warfare.today/2017/07/24/operation-trenton-the-british-army-in-south-sudan/\n",
      "17 <Response [200]>\n",
      "http://www.warfare.today/2017/05/12/operation-toral-the-british-army-in-afghanistan/\n",
      "18 <Response [200]>\n",
      "http://www.warfare.today/2017/01/24/sitrep-ivory-coast-mutiny/\n",
      "19 <Response [200]>\n",
      "https://www.criticalthreats.org/briefs/pakistan-security-brief/pakistan-security-brief-august-31-2011\n",
      "20 <Response [200]>\n",
      "https://www.criticalthreats.org/briefs/iran-file/iran-file-january-29-2020\n",
      "21 <Response [200]>\n",
      "https://www.criticalthreats.org/briefs/iran-file/iran-file-december-16-2019\n",
      "22 <Response [403]>\n",
      "https://counteriedreport.com/egyptian-military-kills-77-terrorists-in-northern-sinai-report/\n",
      "23 <Response [200]>\n",
      "https://www.bbc.co.uk/news/world-europe-54533486\n",
      "24 <Response [200]>\n",
      "https://www.bbc.co.uk/sport/football/54528942\n",
      "25 <Response [200]>\n",
      "https://www.bbc.co.uk/news/world-europe-54522203\n",
      "26 <Response [200]>\n",
      "https://www.bbc.co.uk/news/av/world-54533860\n",
      "27 <Response [200]>\n",
      "https://www.bbc.co.uk/news/world-asia-54538508\n",
      "28 <Response [200]>\n",
      "https://www.bbc.co.uk/news/world-asia-54538679\n",
      "Write problem: 28\n",
      "29 <Response [200]>\n",
      "https://www.expressandstar.com/news/local-hubs/sandwell/wednesbury/2020/10/13/teenage-terror-suspect-arrested-in-wednesbury/\n",
      "30 <Response [200]>\n",
      "https://www.expressandstar.com/news/local-hubs/sandwell/west-bromwich/2020/10/08/eight-arrested-and-weapons-seized-after-disorder-in-west-bromwich-town-centre/\n",
      "31 <Response [200]>\n",
      "https://news.sky.com/story/terrorist-and-radicalised-inmate-convicted-of-trying-to-kill-guard-at-top-security-jail-12098497\n",
      "32 <Response [200]>\n",
      "https://www.newyorker.com/magazine/2013/09/30/the-shadow-commander\n",
      "Write problem: 32\n",
      "33 <Response [200]>\n",
      "https://www.newyorker.com/magazine/2020/08/31/can-bidens-center-hold\n",
      "Write problem: 33\n",
      "34 <Response [200]>\n",
      "https://www.bbc.co.uk/news/world-middle-east-40354415\n",
      "35 <Response [200]>\n",
      "https://www.politico.com/magazine/story/2017/06/13/saudi-arabia-middle-east-donald-trump-215254\n",
      "36 <Response [200]>\n",
      "https://www.politico.com/magazine/story/2019/10/31/saudi-arabia-ambassador-us-relations-229866\n",
      "37 <Response [200]>\n",
      "https://www.politico.com/magazine/story/2019/09/30/fiona-hill-russia-trump-adviser-228758\n",
      "38 <Response [200]>\n",
      "https://www.politico.com/magazine/story/2019/05/12/richard-holbrooke-biography-review-history-analysis-226871\n",
      "39 <Response [200]>\n",
      "https://www.politico.com/magazine/story/2019/04/21/democrats-foreign-policy-tom-malinowski-226703\n",
      "40 <Response [200]>\n",
      "https://www.adl.org/resources/profiles/al-qaeda\n",
      "41 <Response [200]>\n",
      "https://www.adl.org/resources/profiles/anonghost-team\n",
      "42 <Response [200]>\n",
      "https://www.bbc.co.uk/news/world-africa-15336689\n",
      "43 <Response [200]>\n",
      "https://www.adl.org/resources/backgrounders/nationalist-social-club-nsc\n",
      "44 <Response [200]>\n",
      "https://www.adl.org/resources/backgrounders/atomwaffen-division-awd\n",
      "45 <Response [200]>\n",
      "https://www.adl.org/resources/backgrounders/legion-of-saint-ambrose-losa\n",
      "46 <Response [200]>\n",
      "https://www.adl.org/resources/backgrounders/neturei-karta\n",
      "47 <Response [200]>\n",
      "https://www.adl.org/resources/backgrounders/abbas-hamideh\n",
      "48 <Response [200]>\n",
      "https://www.adl.org/resources/backgrounders/new-jersey-european-heritage-association-njeha\n",
      "49 <Response [200]>\n",
      "https://www.adl.org/resources/backgrounders/keystone-state-skinheadskeystone-united\n",
      "50 <Response [200]>\n",
      "https://www.adl.org/resources/backgrounders/loyal-white-knights-of-the-ku-klux-klan\n",
      "51 <Response [200]>\n",
      "https://www.adl.org/resources/backgrounders/shield-wall-network-swn\n",
      "52 <Response [200]>\n",
      "https://www.criticalthreats.org/analysis/profile-ahmad-umar-abu-ubaidah\n",
      "53 <Response [200]>\n",
      "https://www.criticalthreats.org/analysis/profile-ahmed-abdi-godane-mukhtar-abu-zubair\n",
      "54 <Response [200]>\n",
      "https://www.criticalthreats.org/analysis/profile-ibrahim-haji-jama-mead-ibrahim-al-afghani\n",
      "55 <Response [200]>\n",
      "https://www.criticalthreats.org/analysis/profile-sheikh-mukhtar-robow-abu-mansur\n",
      "56 <Response [200]>\n",
      "https://www.criticalthreats.org/analysis/profile-al-houthi-movement\n",
      "57 <Response [200]>\n",
      "https://www.criticalthreats.org/analysis/profile-sheikh-hassan-dahir-aweys\n",
      "58 <Response [200]>\n",
      "https://www.criticalthreats.org/analysis/profile-ahmed-abdi-godane-mukhtar-abu-zubair\n",
      "59 <Response [200]>\n",
      "https://www.criticalthreats.org/briefs/threat-update/irans-ex-president-ahmadinejad-raises-the-stakes-against-the-political-establishment\n",
      "60 <Response [200]>\n",
      "https://www.criticalthreats.org/analysis/profile-ali-mohamed-rage-ali-dhere\n",
      "61 <Response [200]>\n",
      "https://www.dni.gov/nctc/groups/haqqani_network.html\n",
      "62 <Response [200]>\n",
      "https://www.dni.gov/nctc/groups/abu_sayyaf.html\n",
      "63 <Response [200]>\n",
      "https://www.dni.gov/nctc/groups/afghan_taliban.html\n",
      "64 <Response [200]>\n",
      "https://www.dni.gov/nctc/groups/al_nusrah_front.html\n",
      "65 <Response [200]>\n",
      "https://www.dni.gov/nctc/groups/ansar_bayt_al_maqdis.html\n",
      "66 <Response [200]>\n",
      "https://www.dni.gov/nctc/groups/al_shabaab.html\n",
      "67 <Response [200]>\n",
      "https://www.dni.gov/nctc/groups/ansar_al_sharia.html\n",
      "68 <Response [200]>\n",
      "https://www.dni.gov/nctc/groups/aqap.html\n",
      "69 <Response [200]>\n",
      "https://www.dni.gov/nctc/groups/aqim.html\n",
      "70 <Response [200]>\n",
      "https://www.dni.gov/nctc/groups/al_qaida.html\n",
      "71 <Response [200]>\n",
      "https://www.dni.gov/nctc/groups/boko_haram.html\n",
      "72 <Response [200]>\n",
      "https://www.dni.gov/nctc/groups/hezb_e_islami.html\n",
      "73 <Response [200]>\n",
      "https://www.dni.gov/nctc/groups/hizballah.html\n",
      "74 <Response [200]>\n",
      "https://www.dni.gov/nctc/groups/hamas.html\n",
      "75 <Response [200]>\n",
      "https://www.dni.gov/nctc/groups/jem.html\n",
      "76 <Response [200]>\n",
      "https://www.dni.gov/nctc/groups/ji.html\n",
      "77 <Response [200]>\n",
      "https://rewardsforjustice.net/english/talal_hamiyah.html\n",
      "78 <Response [200]>\n",
      "https://rewardsforjustice.net/english/salman_salman.html\n",
      "79 <Response [200]>\n",
      "https://rewardsforjustice.net/english/abubakar_shekau.html\n",
      "80 <Response [200]>\n",
      "https://rewardsforjustice.net/english/atef_al_awlaki.html\n",
      "81 <Response [200]>\n",
      "https://rewardsforjustice.net/english/abu_ubaidah.html\n",
      "82 <Response [200]>\n",
      "https://rewardsforjustice.net/english/hassan_afgooye.html\n",
      "83 <Response [200]>\n",
      "https://rewardsforjustice.net/english/salih_al_aruri.html\n",
      "84 <Response [200]>\n",
      "https://rewardsforjustice.net/english/ali_atwa.html\n",
      "85 <Response [200]>\n",
      "https://rewardsforjustice.net/english/ali_sayyid_al_bakri.html\n",
      "86 <Response [200]>\n",
      "https://rewardsforjustice.net/english/ibrahim_al_banna.html\n",
      "87 <Response [200]>\n",
      "https://rewardsforjustice.net/english/khalid_al_batarfi.html\n",
      "88 <Response [200]>\n",
      "https://rewardsforjustice.net/english/faker_boussora.html\n",
      "89 <Response [200]>\n",
      "https://rewardsforjustice.net/english/maalim_daud.html\n",
      "90 <Response [200]>\n",
      "https://rewardsforjustice.net/english/jaber_elbaneh.html\n",
      "91 <Response [200]>\n",
      "https://rewardsforjustice.net/english/abdelbasit_hamad.html\n",
      "92 <Response [200]>\n",
      "https://rewardsforjustice.net/english/mohammed_hamadei.html\n",
      "93 <Response [200]>\n",
      "https://rewardsforjustice.net/english/aziz_haqqani.html\n",
      "94 <Response [200]>\n",
      "https://rewardsforjustice.net/english/khalil_haqqani.html\n",
      "95 <Response [200]>\n",
      "https://rewardsforjustice.net/english/yahya_haqqani.html\n",
      "96 <Response [200]>\n",
      "https://rewardsforjustice.net/english/khalil_harb.html\n",
      "97 <Response [200]>\n",
      "https://rewardsforjustice.net/english/ali_el_hoorie.html\n",
      "98 <Response [200]>\n",
      "https://rewardsforjustice.net/english/hasan_izz_al_din.html\n",
      "99 <Response [200]>\n",
      "https://rewardsforjustice.net/english/mutaz_al_jaburi.html\n",
      "100 <Response [200]>\n",
      "https://rewardsforjustice.net/english/sami_al_jaburi.html\n",
      "101 <Response [200]>\n",
      "https://rewardsforjustice.net/english/ibrahim_jama.html\n",
      "102 <Response [200]>\n",
      "https://rewardsforjustice.net/english/abderraouf_jdey.html\n",
      "103 <Response [200]>\n",
      "https://rewardsforjustice.net/english/mahad_karate.html\n",
      "104 <Response [200]>\n",
      "https://rewardsforjustice.net/english/murat_karayilan.html\n",
      "105 <Response [200]>\n",
      "https://rewardsforjustice.net/english/hamad_el_khairy.html\n",
      "106 <Response [200]>\n",
      "https://rewardsforjustice.net/english/fuad_khalaf.html\n",
      "107 <Response [200]>\n",
      "https://rewardsforjustice.net/english/bashir_mahamoud.html\n",
      "108 <Response [200]>\n",
      "https://rewardsforjustice.net/english/mohamed_makawi.html\n",
      "109 <Response [200]>\n",
      "https://rewardsforjustice.net/english/abu_al_masri.html\n",
      "110 <Response [200]>\n",
      "https://rewardsforjustice.net/english/jehad_mostafa.html\n",
      "111 <Response [200]>\n",
      "https://rewardsforjustice.net/english/ahmad_al_mughassil.html\n",
      "112 <Response [200]>\n",
      "https://rewardsforjustice.net/english/muhammad_al_munawar.html\n",
      "113 <Response [200]>\n",
      "https://rewardsforjustice.net/english/abdelkarim_al_nasser.html\n",
      "114 <Response [200]>\n",
      "https://rewardsforjustice.net/english/muhammad_ar_rahayyal.html\n",
      "115 <Response [200]>\n",
      "https://rewardsforjustice.net/english/jamal_rahim.html\n",
      "116 <Response [200]>\n",
      "https://rewardsforjustice.net/english/ramadan_shallah.html\n",
      "117 <Response [200]>\n",
      "https://www.nytimes.com/2020/08/17/world/africa/elite-hotel-somalia-mogadishu-attack.html\n",
      "118 <Response [200]>\n",
      "https://www.bbc.com/news/world-europe-54500555\n",
      "119 <Response [200]>\n",
      "https://www.aljazeera.com/news/2020/10/12/nagorno-karabakh-live-news\n",
      "Write problem: 119\n",
      "120 <Response [403]>\n",
      "https://counteriedreport.com/roadside-bomb-blast-kills-6-soldiers-in-somalia/\n",
      "121 <Response [403]>\n",
      "https://counteriedreport.com/al-shabaabs-improvised-explosive-device-supply-chain-gambit-in-somalia/\n",
      "122 <Response [403]>\n",
      "https://counteriedreport.com/several-killed-in-suicide-bombing-outside-mosque-in-somalia/\n",
      "123 <Response [403]>\n",
      "https://counteriedreport.com/restaurant-in-somali-capital-mogadishu-hit-by-explosion/\n",
      "124 <Response [403]>\n",
      "https://counteriedreport.com/somalia-sna-thwart-two-car-bomb-attacks-in-southern-somalia/\n",
      "125 <Response [403]>\n",
      "https://counteriedreport.com/us-service-member-injured-in-al-shabaab-attack-in-somalia/\n",
      "126 <Response [403]>\n",
      "https://counteriedreport.com/somalia-over-a-dozen-killed-in-hours-long-mogadishu-hotel-siege/\n",
      "127 <Response [403]>\n",
      "https://counteriedreport.com/suicide-bombing-attack-on-mogadishu-restaurants-kills-at-least-three/\n",
      "128 <Response [403]>\n",
      "https://counteriedreport.com/amisom-troops-remain-steadfast-amid-covid-19-disruptions/\n",
      "129 <Response [403]>\n",
      "https://counteriedreport.com/somalias-army-chief-escapes-car-bomb-attack-in-mogadishu/\n",
      "130 <Response [403]>\n",
      "https://counteriedreport.com/two-killed-five-wounded-in-ras-al-ayn-syria-bombing/\n",
      "131 <Response [403]>\n",
      "https://counteriedreport.com/russian-army-develops-system-to-detect-suicide-bombers-in-crowds-using-syrian-experience/\n",
      "132 <Response [200]>\n",
      "https://www.criticalthreats.org/briefs/gulf-of-aden-security-review/gulf-of-aden-security-review-october-7-2020\n",
      "133 <Response [200]>\n",
      "https://www.criticalthreats.org/briefs/gulf-of-aden-security-review/gulf-of-aden-security-review-october-9-2020\n",
      "134 <Response [200]>\n",
      "https://www.criticalthreats.org/briefs/gulf-of-aden-security-review/gulf-of-aden-security-review-october-5-2020\n",
      "135 <Response [200]>\n",
      "https://www.criticalthreats.org/briefs/gulf-of-aden-security-review/gulf-of-aden-security-review-october-2-2020\n",
      "136 <Response [200]>\n",
      "https://www.criticalthreats.org/briefs/gulf-of-aden-security-review/gulf-of-aden-security-review-september-23-2020\n",
      "137 <Response [200]>\n",
      "https://www.criticalthreats.org/briefs/gulf-of-aden-security-review/gulf-of-aden-security-review-september-16-2020\n",
      "138 <Response [200]>\n",
      "https://www.criticalthreats.org/briefs/gulf-of-aden-security-review/gulf-of-aden-security-review-september-14-2020\n",
      "139 <Response [200]>\n",
      "https://www.criticalthreats.org/briefs/gulf-of-aden-security-review/gulf-of-aden-security-review-september-11-2020\n",
      "140 <Response [200]>\n",
      "https://www.criticalthreats.org/briefs/gulf-of-aden-security-review/gulf-of-aden-security-review-september-9-2020\n",
      "141 <Response [403]>\n",
      "https://insidedefense.com/insider/week-ahead-241\n",
      "142 <Response [200]>\n",
      "https://www.criticalthreats.org/briefs/gulf-of-aden-security-review/gulf-of-aden-security-review-august-3-2020\n",
      "143 <Response [200]>\n",
      "https://www.defenseindustrydaily.com/f18-hornet-fleets-keeping-em-flying-02816/\n",
      "144 <Response [200]>\n",
      "https://www.criticalthreats.org/briefs/gulf-of-aden-security-review/gulf-of-aden-security-review-august-28-2020\n",
      "145 <Response [200]>\n",
      "https://www.criticalthreats.org/briefs/gulf-of-aden-security-review/gulf-of-aden-security-review-august-21-2020\n",
      "146 <Response [200]>\n",
      "https://www.criticalthreats.org/briefs/gulf-of-aden-security-review/gulf-of-aden-security-review-september-2-2020\n",
      "147 <Response [200]>\n",
      "https://www.dni.gov/nctc/groups/haqqani_network.html\n",
      "148 <Response [200]>\n",
      "https://www.dni.gov/nctc/groups/turkey_domestic_terrorism.html\n",
      "149 <Response [200]>\n",
      "https://rewardsforjustice.net/english/ayman_zawahiri.html\n",
      "150 <Response [200]>\n",
      "https://rewardsforjustice.net/english/abdullah_abdullah.html\n",
      "151 <Response [200]>\n",
      "https://rewardsforjustice.net/english/saif_al_adel.html\n",
      "152 <Response [200]>\n",
      "https://www.dni.gov/nctc/groups/isil.html\n",
      "153 <Response [200]>\n",
      "https://www.dni.gov/nctc/groups/lt.html\n",
      "154 <Response [200]>\n",
      "https://www.dni.gov/nctc/groups/lra.html\n",
      "155 <Response [200]>\n",
      "https://www.dni.gov/nctc/groups/lj.html\n",
      "156 <Response [200]>\n",
      "https://www.dni.gov/nctc/groups/ttp.html\n",
      "157 <Response [200]>\n",
      "https://rewardsforjustice.net/english/sirajuddin_haqqani.html\n",
      "158 <Response [200]>\n",
      "https://rewardsforjustice.net/english/muhammad_al_jawlani.html\n",
      "159 <Response [200]>\n",
      "https://rewardsforjustice.net/english/amir_al_malwa.html\n",
      "160 <Response [200]>\n",
      "https://rewardsforjustice.net/english/hafiz_saeed.html\n",
      "161 <Response [200]>\n",
      "https://rewardsforjustice.net/english/yasin_al_suri.html\n",
      "162 <Response [200]>\n",
      "https://ctc.usma.edu/remaining-and-expanding-the-recovery-of-islamic-state-operations-in-iraq-in-2019-2020/\n",
      "163 <Response [200]>\n",
      "https://ctc.usma.edu/operation-marksburg-frontline-field-investigation-prosecution-terrorism/\n",
      "164 <Response [200]>\n",
      "https://www.reuters.com/article/us-usa-election-foreign-policy-factbox/factbox-the-foreign-policy-issues-that-divide-trump-and-biden-idUSKCN24S134\n",
      "165 <Response [200]>\n",
      "http://www.warfare.today/2017/02/08/russia-prepares-for-war/\n",
      "166 <Response [200]>\n",
      "https://www.criticalthreats.org/analysis/isis-resilient-on-sixth-anniversary\n",
      "167 <Response [200]>\n",
      "https://www.criticalthreats.org/briefs/africa-file/africa-file-october-16-2019\n",
      "168 <Response [200]>\n",
      "https://www.criticalthreats.org/analysis/al-shabaabs-first-international-strike-analysis-of-the-july-11-uganda-bombings\n",
      "169 <Response [200]>\n",
      "https://www.politico.com/magazine/story/2019/08/30/hong-kong-protest-democracy-analysis-poland-solidarity-227990\n",
      "170 <Response [200]>\n",
      "https://ctc.usma.edu/back-into-the-shadows-the-future-of-kataib-hezbollah-and-irans-other-proxies-in-iraq/\n",
      "171 <Response [200]>\n",
      "https://ctc.usma.edu/afghanistans-future-emirate-the-taliban-and-the-struggle-for-afghanistan/\n",
      "172 <Response [200]>\n",
      "https://freedomhouse.org/article/recent-wins-and-defeats-beijings-global-media-influence-campaign\n",
      "173 <Response [200]>\n",
      "https://freedomhouse.org/article/ensuring-democracy-holds-moldova\n",
      "174 <Response [200]>\n",
      "https://freedomhouse.org/article/hong-kongs-academic-freedom-withers-under-national-security-law\n",
      "175 <Response [200]>\n",
      "https://issafrica.org/impact/sadc-strengthens-strategy-to-silence-the-guns\n",
      "176 <Response [200]>\n",
      "https://issafrica.org/iss-today/tensions-cloud-december-polls-in-ghana\n"
     ]
    }
   ],
   "source": [
    "# Get txt files from urls\n",
    "for i in range(len(docs)):\n",
    "    try:\n",
    "        r = requests.get(docs.iloc[i][0], timeout=10)\n",
    "        print(i, r)\n",
    "        print(docs.iloc[i][0])\n",
    "    except:\n",
    "        print(\"Problem:\", i)\n",
    "        continue\n",
    "\n",
    "    if r.ok:\n",
    "        soup = BeautifulSoup(r.content, 'html.parser')\n",
    "        with open(\"data/Reports/\" + str(i) + \".txt\", 'wt') as f:\n",
    "            text = \"\"\n",
    "            for element in soup.select('p'):\n",
    "                # Reduce potential overfitting by not including parts of the document that repeat themselves regularly and aren't relevant\n",
    "                # to the actual text\n",
    "                if  \"View/Print Poster\" in element.text:\n",
    "                    continue\n",
    "                elif element.text == \"If you prefer a different language, you may select one from the full list by navigating to the Select Language menu at the top of this site.\":\n",
    "                    continue\n",
    "                elif element.text == \"Rewards for Justice\":\n",
    "                    continue\n",
    "                elif element.text == \"The most important reasons to stop a terrorist are all around you.\":\n",
    "                    continue\n",
    "                elif element.text == \"Stop a terrorist. Save lives.\":\n",
    "                    continue\n",
    "                elif element.text == \"Up to $10 Million Reward\":\n",
    "                    continue\n",
    "                elif element.text == \"{{region_detail.text}}\":\n",
    "                    continue\n",
    "                elif element.text == \"{{person_detail.text}}\":\n",
    "                    continue\n",
    "                elif element.text == \"{{organization_detail.text}}\":\n",
    "                    continue\n",
    "                elif element.text == \"{{series.description | limitTo:140}}\":\n",
    "                    continue\n",
    "                elif element.text == \"Up to $5 Million Reward\":\n",
    "                    continue\n",
    "                elif len(element.text.split()) == 1:\n",
    "                    continue\n",
    "                text += element.text + \"\\n\"\n",
    "            try:\n",
    "                f.write(text)\n",
    "            except:\n",
    "                print(\"Write problem:\", i)\n",
    "                continue\n",
    "        \n"
   ]
  },
  {
   "cell_type": "code",
   "execution_count": 65,
   "metadata": {},
   "outputs": [
    {
     "output_type": "stream",
     "name": "stdout",
     "text": [
      "     index                                               Text  \\\n0        0  C:/Users/gobli/Documents/AI CORE/Machine-Learn...   \n1        1  C:/Users/gobli/Documents/AI CORE/Machine-Learn...   \n2        2  C:/Users/gobli/Documents/AI CORE/Machine-Learn...   \n3        3  C:/Users/gobli/Documents/AI CORE/Machine-Learn...   \n4        4  C:/Users/gobli/Documents/AI CORE/Machine-Learn...   \n..     ...                                                ...   \n329    172  C:/Users/gobli/Documents/AI CORE/Machine-Learn...   \n330    173  C:/Users/gobli/Documents/AI CORE/Machine-Learn...   \n331    174  C:/Users/gobli/Documents/AI CORE/Machine-Learn...   \n332    175  C:/Users/gobli/Documents/AI CORE/Machine-Learn...   \n333    176  C:/Users/gobli/Documents/AI CORE/Machine-Learn...   \n\n                 Label  \n0    Analytical_Report  \n1    Analytical_Report  \n2    Analytical_Report  \n3    Analytical_Report  \n4    Analytical_Report  \n..                 ...  \n329  Analytical Report  \n330  Analytical Report  \n331  Analytical Report  \n332  Analytical Report  \n333  Analytical Report  \n\n[334 rows x 3 columns]\n"
     ]
    }
   ],
   "source": [
    "# Get data\n",
    "df = pd.DataFrame(columns=['Text', 'Label'])\n",
    "main_path = r'C:/Users/gobli/Documents/AI CORE/Machine-Learning-Algos/Adarga_NLP/Data/'\n",
    "end_path = ['Analytical_Report', 'Incident_Report', 'Situation_Report']\n",
    "for end in end_path:\n",
    "    path = main_path + end\n",
    "    all_files = glob.glob(os.path.join(path, \"*.txt\")) \n",
    "    # print(all_files[0])\n",
    "    data = [[f, end] for f in all_files]\n",
    "    # print(pd.DataFrame(data, columns=['Text', 'Label']))\n",
    "    df = df.append(pd.DataFrame(data, columns=['Text', 'Label']))\n",
    "# print(df)\n",
    "\n",
    "main_path= r'C:/Users/gobli/Documents/AI CORE/Machine-Learning-Algos/Adarga_NLP/Data/Reports'\n",
    "files = glob.glob(os.path.join(main_path, '*.txt'))\n",
    "data2 = [[f, docs.iloc[i][1]] for i, f in enumerate(files)]\n",
    "df = df.append(pd.DataFrame(data2, columns=['Text', 'Label']))\n",
    "df.reset_index(inplace = True) \n",
    "print(df)"
   ]
  },
  {
   "cell_type": "code",
   "execution_count": 66,
   "metadata": {},
   "outputs": [
    {
     "output_type": "execute_result",
     "data": {
      "text/plain": [
       "0      Analytical_Report\n",
       "1      Analytical_Report\n",
       "2      Analytical_Report\n",
       "3      Analytical_Report\n",
       "4      Analytical_Report\n",
       "             ...        \n",
       "329    Analytical_Report\n",
       "330    Analytical_Report\n",
       "331    Analytical_Report\n",
       "332    Analytical_Report\n",
       "333    Analytical_Report\n",
       "Name: Label, Length: 334, dtype: category\n",
       "Categories (4, object): ['Analytical_Report', 'Incident_Report', 'Profile_Report', 'Situation_Report']"
      ]
     },
     "metadata": {},
     "execution_count": 66
    }
   ],
   "source": [
    "# Convert 'label' column to categories\n",
    "df[\"Label\"] = df[\"Label\"].replace({'Analytical Report' : 'Analytical_Report', 'Incident Report' : 'Incident_Report', 'Profile Report' : 'Profile_Report','Report' : 'Profile_Report', 'Situation Report' : 'Situation_Report'})\n",
    "df[\"Label\"] = df[\"Label\"].astype('category')\n",
    "df[\"Label\"]"
   ]
  },
  {
   "cell_type": "code",
   "execution_count": 67,
   "metadata": {},
   "outputs": [
    {
     "output_type": "execute_result",
     "data": {
      "text/plain": [
       "                   index  Text\n",
       "Label                         \n",
       "Analytical_Report     47    47\n",
       "Incident_Report       88    88\n",
       "Profile_Report       100   100\n",
       "Situation_Report      99    99"
      ],
      "text/html": "<div>\n<style scoped>\n    .dataframe tbody tr th:only-of-type {\n        vertical-align: middle;\n    }\n\n    .dataframe tbody tr th {\n        vertical-align: top;\n    }\n\n    .dataframe thead th {\n        text-align: right;\n    }\n</style>\n<table border=\"1\" class=\"dataframe\">\n  <thead>\n    <tr style=\"text-align: right;\">\n      <th></th>\n      <th>index</th>\n      <th>Text</th>\n    </tr>\n    <tr>\n      <th>Label</th>\n      <th></th>\n      <th></th>\n    </tr>\n  </thead>\n  <tbody>\n    <tr>\n      <th>Analytical_Report</th>\n      <td>47</td>\n      <td>47</td>\n    </tr>\n    <tr>\n      <th>Incident_Report</th>\n      <td>88</td>\n      <td>88</td>\n    </tr>\n    <tr>\n      <th>Profile_Report</th>\n      <td>100</td>\n      <td>100</td>\n    </tr>\n    <tr>\n      <th>Situation_Report</th>\n      <td>99</td>\n      <td>99</td>\n    </tr>\n  </tbody>\n</table>\n</div>"
     },
     "metadata": {},
     "execution_count": 67
    }
   ],
   "source": [
    "# How may documents in each category?\n",
    "df.groupby(['Label']).count()"
   ]
  },
  {
   "source": [
    "Now it's time to add some potentially useful features to the dataset, by looking at what we already know about the documents and making some assumptions. Then we can perform EDA to check how relevant these features are before running models using only the most important features."
   ],
   "cell_type": "markdown",
   "metadata": {}
  },
  {
   "cell_type": "code",
   "execution_count": 68,
   "metadata": {
    "tags": []
   },
   "outputs": [
    {
     "output_type": "stream",
     "name": "stdout",
     "text": [
      "     index                                               Text  \\\n0        0  C:/Users/gobli/Documents/AI CORE/Machine-Learn...   \n1        1  C:/Users/gobli/Documents/AI CORE/Machine-Learn...   \n2        2  C:/Users/gobli/Documents/AI CORE/Machine-Learn...   \n3        3  C:/Users/gobli/Documents/AI CORE/Machine-Learn...   \n4        4  C:/Users/gobli/Documents/AI CORE/Machine-Learn...   \n..     ...                                                ...   \n329    172  C:/Users/gobli/Documents/AI CORE/Machine-Learn...   \n330    173  C:/Users/gobli/Documents/AI CORE/Machine-Learn...   \n331    174  C:/Users/gobli/Documents/AI CORE/Machine-Learn...   \n332    175  C:/Users/gobli/Documents/AI CORE/Machine-Learn...   \n333    176  C:/Users/gobli/Documents/AI CORE/Machine-Learn...   \n\n                 Label  Wordcount  Vocabulary  Vocabulary_per_wc  \\\n0    Analytical_Report        974         410           0.420945   \n1    Analytical_Report       4052        1114           0.274926   \n2    Analytical_Report       1499         708           0.472315   \n3    Analytical_Report       2123         783           0.368818   \n4    Analytical_Report       1768         665           0.376131   \n..                 ...        ...         ...                ...   \n329  Analytical_Report        407         197           0.484029   \n330  Analytical_Report        133          88           0.661654   \n331  Analytical_Report        226         135           0.597345   \n332  Analytical_Report        240         141           0.587500   \n333  Analytical_Report        161         106           0.658385   \n\n     Non-stop_per_wc      PART      PRON      VERB     SPACE       AUX  CCONJ  \n0           0.273101  0.010267  0.012320  0.012320  0.017454       NaN    NaN  \n1           0.217423  0.005676  0.009872  0.002715  0.023939  0.003455    NaN  \n2           0.367578  0.002001  0.000667       NaN  0.008672  0.000667    NaN  \n3           0.287800  0.001413       NaN  0.001413  0.016015       NaN    NaN  \n4           0.301471  0.001131  0.000566  0.001131  0.013009       NaN    NaN  \n..               ...       ...       ...       ...       ...       ...    ...  \n329         0.383292       NaN       NaN       NaN  0.046683       NaN    NaN  \n330         0.556391       NaN       NaN       NaN  0.067669       NaN    NaN  \n331         0.460177       NaN       NaN       NaN  0.053097       NaN    NaN  \n332         0.470833       NaN       NaN       NaN  0.054167       NaN    NaN  \n333         0.496894       NaN       NaN       NaN  0.037267       NaN    NaN  \n\n[334 rows x 13 columns]\n"
     ]
    }
   ],
   "source": [
    "# Set up lists that will be appended to as we iterate through our df of docs\n",
    "word_counts, unique_word_counts, vocabs_per_wc, non_stop_per_wc, pos_counts = [], [], [], [], []\n",
    "\n",
    "# create spacy object\n",
    "nlp = English()\n",
    "\n",
    "# go through each row and read in the text\n",
    "for idx, row in df.iterrows():\n",
    "    # read in the text\n",
    "    try:   \n",
    "        corpus = open(row[1], encoding=\"utf8\").read()\n",
    "    except:\n",
    "        corpus = open(row[1], encoding=\"latin1\").read()\n",
    "    doc = nlp(corpus)\n",
    "    list_of_words = [token.text for token in doc if not token.is_punct and token.text != \"\\n\"] # get the words and numbers (not punctiation)\n",
    "\n",
    "    word_count = len(list_of_words) # Get the word count\n",
    "    unique_word_count = len(set(list_of_words)) # Get the word count of unique words\n",
    "    vocab_per_wc = unique_word_count / word_count # Get the proportion of words that are unique\n",
    "    \n",
    "    # get a list of words that are not stop words or punctuation\n",
    "    list_of_non_stop_words = [token.text for token in doc if not token.is_stop and not token.is_punct and token.text != \"\\n\"]\n",
    "    \n",
    "    # count how many of each type of part of speech in doc\n",
    "    pos_count = doc.count_by(spacy.attrs.POS)\n",
    "    new_pos_count = {}\n",
    "    for k, v in pos_count.items():\n",
    "        new_pos_count[doc.vocab[k].text] = v/word_count\n",
    "    new_pos_count.pop('')\n",
    "    \n",
    "    # count the number of numbers in each number range (named entity)\n",
    "    # count the number of dates (named entity)\n",
    "    # Do tf-idf and \n",
    "    \n",
    "    word_counts.append(word_count)\n",
    "    unique_word_counts.append(unique_word_count)\n",
    "    vocabs_per_wc.append(vocab_per_wc)\n",
    "    non_stop_per_wc.append(len(set(list_of_non_stop_words))/ word_count) # get proportion of unique non-stop words\n",
    "    pos_counts.append(new_pos_count)\n",
    "\n",
    "df['Wordcount'] = word_counts\n",
    "df['Vocabulary'] = unique_word_counts\n",
    "df['Vocabulary_per_wc'] = vocabs_per_wc\n",
    "df['Non-stop_per_wc'] = non_stop_per_wc\n",
    "\n",
    "pos_df = pd.DataFrame(pos_counts)\n",
    "df = pd.concat([df, pos_df], axis=1)\n",
    "# print(df['Wordcount'])\n",
    "# print(df['Vocabulary'])\n",
    "# print(df[\"Vocabulary_per_wordcount\"])\n",
    "# print(df.head())\n",
    "\n",
    "print(df)"
   ]
  },
  {
   "cell_type": "code",
   "execution_count": 69,
   "metadata": {},
   "outputs": [
    {
     "output_type": "stream",
     "name": "stdout",
     "text": [
      "\n"
     ]
    }
   ],
   "source": [
    "print()"
   ]
  },
  {
   "cell_type": "code",
   "execution_count": 23,
   "metadata": {
    "tags": []
   },
   "outputs": [
    {
     "output_type": "display_data",
     "data": {
      "application/vnd.plotly.v1+json": {
       "config": {
        "plotlyServerURL": "https://plot.ly"
       },
       "data": [
        {
         "alignmentgroup": "True",
         "hovertemplate": "Label=%{x}<br>Wordcount=%{y}<extra></extra>",
         "legendgroup": "",
         "marker": {
          "color": "#636efa"
         },
         "name": "",
         "notched": false,
         "offsetgroup": "",
         "orientation": "v",
         "showlegend": false,
         "type": "box",
         "x": [
          "Analytical_Report",
          "Analytical_Report",
          "Analytical_Report",
          "Analytical_Report",
          "Analytical_Report",
          "Analytical_Report",
          "Analytical_Report",
          "Analytical_Report",
          "Analytical_Report",
          "Analytical_Report",
          "Analytical_Report",
          "Analytical_Report",
          "Analytical_Report",
          "Analytical_Report",
          "Analytical_Report",
          "Analytical_Report",
          "Analytical_Report",
          "Analytical_Report",
          "Analytical_Report",
          "Analytical_Report",
          "Analytical_Report",
          "Analytical_Report",
          "Analytical_Report",
          "Analytical_Report",
          "Incident_Report",
          "Incident_Report",
          "Incident_Report",
          "Incident_Report",
          "Incident_Report",
          "Incident_Report",
          "Incident_Report",
          "Incident_Report",
          "Incident_Report",
          "Incident_Report",
          "Incident_Report",
          "Incident_Report",
          "Incident_Report",
          "Incident_Report",
          "Incident_Report",
          "Incident_Report",
          "Incident_Report",
          "Incident_Report",
          "Incident_Report",
          "Incident_Report",
          "Incident_Report",
          "Incident_Report",
          "Incident_Report",
          "Incident_Report",
          "Incident_Report",
          "Incident_Report",
          "Incident_Report",
          "Incident_Report",
          "Incident_Report",
          "Incident_Report",
          "Incident_Report",
          "Incident_Report",
          "Incident_Report",
          "Incident_Report",
          "Incident_Report",
          "Incident_Report",
          "Incident_Report",
          "Incident_Report",
          "Incident_Report",
          "Incident_Report",
          "Incident_Report",
          "Incident_Report",
          "Incident_Report",
          "Incident_Report",
          "Incident_Report",
          "Incident_Report",
          "Incident_Report",
          "Incident_Report",
          "Incident_Report",
          "Incident_Report",
          "Incident_Report",
          "Incident_Report",
          "Incident_Report",
          "Incident_Report",
          "Incident_Report",
          "Incident_Report",
          "Incident_Report",
          "Incident_Report",
          "Incident_Report",
          "Incident_Report",
          "Incident_Report",
          "Incident_Report",
          "Incident_Report",
          "Situation_Report",
          "Situation_Report",
          "Situation_Report",
          "Situation_Report",
          "Situation_Report",
          "Situation_Report",
          "Situation_Report",
          "Situation_Report",
          "Situation_Report",
          "Situation_Report",
          "Situation_Report",
          "Situation_Report",
          "Situation_Report",
          "Situation_Report",
          "Situation_Report",
          "Situation_Report",
          "Situation_Report",
          "Situation_Report",
          "Situation_Report",
          "Situation_Report",
          "Situation_Report",
          "Situation_Report",
          "Situation_Report",
          "Situation_Report",
          "Situation_Report",
          "Situation_Report",
          "Situation_Report",
          "Situation_Report",
          "Situation_Report",
          "Situation_Report",
          "Situation_Report",
          "Situation_Report",
          "Situation_Report",
          "Situation_Report",
          "Situation_Report",
          "Situation_Report",
          "Situation_Report",
          "Situation_Report",
          "Situation_Report",
          "Situation_Report",
          "Situation_Report",
          "Situation_Report",
          "Situation_Report",
          "Situation_Report",
          "Situation_Report",
          "Situation_Report",
          "Situation_Report",
          "Situation_Report",
          "Situation_Report",
          "Situation_Report",
          "Situation_Report",
          "Situation_Report",
          "Situation_Report",
          "Situation_Report",
          "Situation_Report",
          "Situation_Report",
          "Situation_Report",
          "Situation_Report",
          "Situation_Report",
          "Situation_Report",
          "Situation_Report",
          "Situation_Report",
          "Situation_Report",
          "Situation_Report",
          "Situation_Report",
          "Situation_Report",
          "Situation_Report",
          "Situation_Report",
          "Situation_Report",
          "Situation_Report",
          "Analytical_Report",
          "Analytical_Report",
          "Analytical_Report",
          "Analytical_Report",
          "Analytical_Report",
          "Analytical_Report",
          "Analytical_Report",
          "Analytical_Report",
          "Situation_Report",
          "Situation_Report",
          "Situation_Report",
          "Situation_Report",
          "Situation_Report",
          "Situation_Report",
          "Situation_Report",
          "Situation_Report",
          "Situation_Report",
          "Situation_Report",
          "Situation_Report",
          "Situation_Report",
          "Situation_Report",
          "Situation_Report",
          "Incident_Report",
          "Incident_Report",
          "Incident_Report",
          "Incident_Report",
          "Incident_Report",
          "Incident_Report",
          "Incident_Report",
          "Incident_Report",
          "Incident_Report",
          "Incident_Report",
          "Profile_Report",
          "Profile_Report",
          "Profile_Report",
          "Profile_Report",
          "Profile_Report",
          "Profile_Report",
          "Profile_Report",
          "Profile_Report",
          "Profile_Report",
          "Profile_Report",
          "Profile_Report",
          "Profile_Report",
          "Profile_Report",
          "Profile_Report",
          "Profile_Report",
          "Profile_Report",
          "Profile_Report",
          "Profile_Report",
          "Profile_Report",
          "Profile_Report",
          "Profile_Report",
          "Profile_Report",
          "Profile_Report",
          "Profile_Report",
          "Profile_Report",
          "Profile_Report",
          "Profile_Report",
          "Profile_Report",
          "Profile_Report",
          "Profile_Report",
          "Profile_Report",
          "Profile_Report",
          "Profile_Report",
          "Profile_Report",
          "Profile_Report",
          "Profile_Report",
          "Profile_Report",
          "Profile_Report",
          "Profile_Report",
          "Profile_Report",
          "Profile_Report",
          "Profile_Report",
          "Profile_Report",
          "Profile_Report",
          "Profile_Report",
          "Profile_Report",
          "Profile_Report",
          "Profile_Report",
          "Profile_Report",
          "Profile_Report",
          "Profile_Report",
          "Profile_Report",
          "Profile_Report",
          "Profile_Report",
          "Profile_Report",
          "Profile_Report",
          "Profile_Report",
          "Profile_Report",
          "Profile_Report",
          "Profile_Report",
          "Profile_Report",
          "Profile_Report",
          "Profile_Report",
          "Profile_Report",
          "Profile_Report",
          "Profile_Report",
          "Profile_Report",
          "Profile_Report",
          "Profile_Report",
          "Profile_Report",
          "Profile_Report",
          "Profile_Report",
          "Profile_Report",
          "Profile_Report",
          "Profile_Report",
          "Profile_Report",
          "Profile_Report",
          "Profile_Report",
          "Profile_Report",
          "Profile_Report",
          "Profile_Report",
          "Profile_Report",
          "Profile_Report",
          "Profile_Report",
          "Profile_Report",
          "Incident_Report",
          "Incident_Report",
          "Incident_Report",
          "Incident_Report",
          "Incident_Report",
          "Incident_Report",
          "Incident_Report",
          "Incident_Report",
          "Incident_Report",
          "Incident_Report",
          "Incident_Report",
          "Incident_Report",
          "Incident_Report",
          "Incident_Report",
          "Incident_Report",
          "Situation_Report",
          "Situation_Report",
          "Situation_Report",
          "Situation_Report",
          "Situation_Report",
          "Situation_Report",
          "Situation_Report",
          "Situation_Report",
          "Situation_Report",
          "Situation_Report",
          "Situation_Report",
          "Situation_Report",
          "Situation_Report",
          "Situation_Report",
          "Situation_Report",
          "Profile_Report",
          "Profile_Report",
          "Profile_Report",
          "Profile_Report",
          "Profile_Report",
          "Profile_Report",
          "Profile_Report",
          "Profile_Report",
          "Profile_Report",
          "Profile_Report",
          "Profile_Report",
          "Profile_Report",
          "Profile_Report",
          "Profile_Report",
          "Profile_Report",
          "Analytical_Report",
          "Analytical_Report",
          "Analytical_Report",
          "Analytical_Report",
          "Analytical_Report",
          "Analytical_Report",
          "Analytical_Report",
          "Analytical_Report",
          "Analytical_Report",
          "Analytical_Report",
          "Analytical_Report",
          "Analytical_Report",
          "Analytical_Report",
          "Analytical_Report",
          "Analytical_Report"
         ],
         "x0": " ",
         "xaxis": "x",
         "y": [
          991,
          4149,
          1512,
          2157,
          1791,
          1709,
          1078,
          1021,
          615,
          837,
          423,
          952,
          863,
          2649,
          1290,
          1138,
          1263,
          1082,
          1199,
          1949,
          1184,
          863,
          1184,
          1871,
          285,
          917,
          253,
          274,
          216,
          338,
          247,
          598,
          140,
          144,
          445,
          621,
          250,
          175,
          408,
          285,
          403,
          183,
          635,
          360,
          216,
          207,
          123,
          387,
          210,
          184,
          798,
          383,
          337,
          43,
          185,
          418,
          267,
          809,
          332,
          137,
          90,
          358,
          254,
          654,
          443,
          185,
          381,
          129,
          253,
          431,
          209,
          124,
          187,
          210,
          160,
          153,
          118,
          936,
          134,
          326,
          408,
          421,
          234,
          127,
          118,
          153,
          123,
          1261,
          799,
          993,
          1855,
          2209,
          205,
          874,
          1599,
          619,
          1091,
          1190,
          878,
          865,
          600,
          800,
          467,
          765,
          774,
          657,
          738,
          786,
          737,
          822,
          833,
          500,
          775,
          549,
          507,
          768,
          669,
          772,
          873,
          614,
          682,
          1023,
          607,
          790,
          788,
          759,
          833,
          730,
          749,
          796,
          600,
          775,
          394,
          689,
          565,
          526,
          766,
          896,
          756,
          559,
          757,
          725,
          673,
          751,
          813,
          697,
          446,
          709,
          914,
          913,
          789,
          715,
          834,
          845,
          1003,
          1440,
          1836,
          2322,
          1279,
          1064,
          251,
          288,
          273,
          96,
          306,
          272,
          371,
          365,
          275,
          126,
          930,
          477,
          221,
          281,
          210,
          298,
          289,
          169,
          748,
          1235,
          2636,
          781,
          113,
          172,
          87,
          78,
          92,
          149,
          80,
          68,
          119,
          86,
          1047,
          83,
          112,
          695,
          760,
          324,
          824,
          728,
          776,
          785,
          736,
          1290,
          1086,
          396,
          891,
          15079,
          654,
          966,
          707,
          852,
          888,
          366,
          1828,
          299,
          413,
          849,
          933,
          1274,
          867,
          733,
          410,
          341,
          244,
          1460,
          203,
          292,
          14154,
          5918,
          890,
          690,
          456,
          3560,
          3201,
          1505,
          1167,
          25870,
          10669,
          1538,
          932,
          474,
          1396,
          1908,
          1272,
          870,
          787,
          966,
          1232,
          94,
          686,
          225,
          626,
          392,
          1357,
          619,
          220,
          2675,
          260,
          603,
          11087,
          14427,
          1524,
          1818,
          4664,
          2799,
          4130,
          3679,
          843,
          6410,
          1588,
          1295,
          1572,
          3757,
          1496,
          856,
          596,
          867,
          1461,
          1415,
          1016,
          1111,
          686,
          2330,
          538,
          1565,
          529,
          1843,
          2330,
          475,
          1484,
          1735,
          852,
          774,
          980,
          867,
          832,
          888,
          754,
          801,
          1271,
          948,
          950,
          810,
          909,
          941,
          852,
          791,
          698,
          140,
          179,
          445,
          15079,
          72,
          192,
          46,
          206,
          264,
          165,
          53,
          252,
          245,
          80,
          1032,
          115,
          225,
          152,
          83,
          183,
          414,
          142,
          238,
          253,
          167
         ],
         "y0": " ",
         "yaxis": "y"
        }
       ],
       "layout": {
        "boxmode": "group",
        "legend": {
         "tracegroupgap": 0
        },
        "margin": {
         "t": 60
        },
        "template": {
         "data": {
          "bar": [
           {
            "error_x": {
             "color": "#2a3f5f"
            },
            "error_y": {
             "color": "#2a3f5f"
            },
            "marker": {
             "line": {
              "color": "#E5ECF6",
              "width": 0.5
             }
            },
            "type": "bar"
           }
          ],
          "barpolar": [
           {
            "marker": {
             "line": {
              "color": "#E5ECF6",
              "width": 0.5
             }
            },
            "type": "barpolar"
           }
          ],
          "carpet": [
           {
            "aaxis": {
             "endlinecolor": "#2a3f5f",
             "gridcolor": "white",
             "linecolor": "white",
             "minorgridcolor": "white",
             "startlinecolor": "#2a3f5f"
            },
            "baxis": {
             "endlinecolor": "#2a3f5f",
             "gridcolor": "white",
             "linecolor": "white",
             "minorgridcolor": "white",
             "startlinecolor": "#2a3f5f"
            },
            "type": "carpet"
           }
          ],
          "choropleth": [
           {
            "colorbar": {
             "outlinewidth": 0,
             "ticks": ""
            },
            "type": "choropleth"
           }
          ],
          "contour": [
           {
            "colorbar": {
             "outlinewidth": 0,
             "ticks": ""
            },
            "colorscale": [
             [
              0,
              "#0d0887"
             ],
             [
              0.1111111111111111,
              "#46039f"
             ],
             [
              0.2222222222222222,
              "#7201a8"
             ],
             [
              0.3333333333333333,
              "#9c179e"
             ],
             [
              0.4444444444444444,
              "#bd3786"
             ],
             [
              0.5555555555555556,
              "#d8576b"
             ],
             [
              0.6666666666666666,
              "#ed7953"
             ],
             [
              0.7777777777777778,
              "#fb9f3a"
             ],
             [
              0.8888888888888888,
              "#fdca26"
             ],
             [
              1,
              "#f0f921"
             ]
            ],
            "type": "contour"
           }
          ],
          "contourcarpet": [
           {
            "colorbar": {
             "outlinewidth": 0,
             "ticks": ""
            },
            "type": "contourcarpet"
           }
          ],
          "heatmap": [
           {
            "colorbar": {
             "outlinewidth": 0,
             "ticks": ""
            },
            "colorscale": [
             [
              0,
              "#0d0887"
             ],
             [
              0.1111111111111111,
              "#46039f"
             ],
             [
              0.2222222222222222,
              "#7201a8"
             ],
             [
              0.3333333333333333,
              "#9c179e"
             ],
             [
              0.4444444444444444,
              "#bd3786"
             ],
             [
              0.5555555555555556,
              "#d8576b"
             ],
             [
              0.6666666666666666,
              "#ed7953"
             ],
             [
              0.7777777777777778,
              "#fb9f3a"
             ],
             [
              0.8888888888888888,
              "#fdca26"
             ],
             [
              1,
              "#f0f921"
             ]
            ],
            "type": "heatmap"
           }
          ],
          "heatmapgl": [
           {
            "colorbar": {
             "outlinewidth": 0,
             "ticks": ""
            },
            "colorscale": [
             [
              0,
              "#0d0887"
             ],
             [
              0.1111111111111111,
              "#46039f"
             ],
             [
              0.2222222222222222,
              "#7201a8"
             ],
             [
              0.3333333333333333,
              "#9c179e"
             ],
             [
              0.4444444444444444,
              "#bd3786"
             ],
             [
              0.5555555555555556,
              "#d8576b"
             ],
             [
              0.6666666666666666,
              "#ed7953"
             ],
             [
              0.7777777777777778,
              "#fb9f3a"
             ],
             [
              0.8888888888888888,
              "#fdca26"
             ],
             [
              1,
              "#f0f921"
             ]
            ],
            "type": "heatmapgl"
           }
          ],
          "histogram": [
           {
            "marker": {
             "colorbar": {
              "outlinewidth": 0,
              "ticks": ""
             }
            },
            "type": "histogram"
           }
          ],
          "histogram2d": [
           {
            "colorbar": {
             "outlinewidth": 0,
             "ticks": ""
            },
            "colorscale": [
             [
              0,
              "#0d0887"
             ],
             [
              0.1111111111111111,
              "#46039f"
             ],
             [
              0.2222222222222222,
              "#7201a8"
             ],
             [
              0.3333333333333333,
              "#9c179e"
             ],
             [
              0.4444444444444444,
              "#bd3786"
             ],
             [
              0.5555555555555556,
              "#d8576b"
             ],
             [
              0.6666666666666666,
              "#ed7953"
             ],
             [
              0.7777777777777778,
              "#fb9f3a"
             ],
             [
              0.8888888888888888,
              "#fdca26"
             ],
             [
              1,
              "#f0f921"
             ]
            ],
            "type": "histogram2d"
           }
          ],
          "histogram2dcontour": [
           {
            "colorbar": {
             "outlinewidth": 0,
             "ticks": ""
            },
            "colorscale": [
             [
              0,
              "#0d0887"
             ],
             [
              0.1111111111111111,
              "#46039f"
             ],
             [
              0.2222222222222222,
              "#7201a8"
             ],
             [
              0.3333333333333333,
              "#9c179e"
             ],
             [
              0.4444444444444444,
              "#bd3786"
             ],
             [
              0.5555555555555556,
              "#d8576b"
             ],
             [
              0.6666666666666666,
              "#ed7953"
             ],
             [
              0.7777777777777778,
              "#fb9f3a"
             ],
             [
              0.8888888888888888,
              "#fdca26"
             ],
             [
              1,
              "#f0f921"
             ]
            ],
            "type": "histogram2dcontour"
           }
          ],
          "mesh3d": [
           {
            "colorbar": {
             "outlinewidth": 0,
             "ticks": ""
            },
            "type": "mesh3d"
           }
          ],
          "parcoords": [
           {
            "line": {
             "colorbar": {
              "outlinewidth": 0,
              "ticks": ""
             }
            },
            "type": "parcoords"
           }
          ],
          "pie": [
           {
            "automargin": true,
            "type": "pie"
           }
          ],
          "scatter": [
           {
            "marker": {
             "colorbar": {
              "outlinewidth": 0,
              "ticks": ""
             }
            },
            "type": "scatter"
           }
          ],
          "scatter3d": [
           {
            "line": {
             "colorbar": {
              "outlinewidth": 0,
              "ticks": ""
             }
            },
            "marker": {
             "colorbar": {
              "outlinewidth": 0,
              "ticks": ""
             }
            },
            "type": "scatter3d"
           }
          ],
          "scattercarpet": [
           {
            "marker": {
             "colorbar": {
              "outlinewidth": 0,
              "ticks": ""
             }
            },
            "type": "scattercarpet"
           }
          ],
          "scattergeo": [
           {
            "marker": {
             "colorbar": {
              "outlinewidth": 0,
              "ticks": ""
             }
            },
            "type": "scattergeo"
           }
          ],
          "scattergl": [
           {
            "marker": {
             "colorbar": {
              "outlinewidth": 0,
              "ticks": ""
             }
            },
            "type": "scattergl"
           }
          ],
          "scattermapbox": [
           {
            "marker": {
             "colorbar": {
              "outlinewidth": 0,
              "ticks": ""
             }
            },
            "type": "scattermapbox"
           }
          ],
          "scatterpolar": [
           {
            "marker": {
             "colorbar": {
              "outlinewidth": 0,
              "ticks": ""
             }
            },
            "type": "scatterpolar"
           }
          ],
          "scatterpolargl": [
           {
            "marker": {
             "colorbar": {
              "outlinewidth": 0,
              "ticks": ""
             }
            },
            "type": "scatterpolargl"
           }
          ],
          "scatterternary": [
           {
            "marker": {
             "colorbar": {
              "outlinewidth": 0,
              "ticks": ""
             }
            },
            "type": "scatterternary"
           }
          ],
          "surface": [
           {
            "colorbar": {
             "outlinewidth": 0,
             "ticks": ""
            },
            "colorscale": [
             [
              0,
              "#0d0887"
             ],
             [
              0.1111111111111111,
              "#46039f"
             ],
             [
              0.2222222222222222,
              "#7201a8"
             ],
             [
              0.3333333333333333,
              "#9c179e"
             ],
             [
              0.4444444444444444,
              "#bd3786"
             ],
             [
              0.5555555555555556,
              "#d8576b"
             ],
             [
              0.6666666666666666,
              "#ed7953"
             ],
             [
              0.7777777777777778,
              "#fb9f3a"
             ],
             [
              0.8888888888888888,
              "#fdca26"
             ],
             [
              1,
              "#f0f921"
             ]
            ],
            "type": "surface"
           }
          ],
          "table": [
           {
            "cells": {
             "fill": {
              "color": "#EBF0F8"
             },
             "line": {
              "color": "white"
             }
            },
            "header": {
             "fill": {
              "color": "#C8D4E3"
             },
             "line": {
              "color": "white"
             }
            },
            "type": "table"
           }
          ]
         },
         "layout": {
          "annotationdefaults": {
           "arrowcolor": "#2a3f5f",
           "arrowhead": 0,
           "arrowwidth": 1
          },
          "coloraxis": {
           "colorbar": {
            "outlinewidth": 0,
            "ticks": ""
           }
          },
          "colorscale": {
           "diverging": [
            [
             0,
             "#8e0152"
            ],
            [
             0.1,
             "#c51b7d"
            ],
            [
             0.2,
             "#de77ae"
            ],
            [
             0.3,
             "#f1b6da"
            ],
            [
             0.4,
             "#fde0ef"
            ],
            [
             0.5,
             "#f7f7f7"
            ],
            [
             0.6,
             "#e6f5d0"
            ],
            [
             0.7,
             "#b8e186"
            ],
            [
             0.8,
             "#7fbc41"
            ],
            [
             0.9,
             "#4d9221"
            ],
            [
             1,
             "#276419"
            ]
           ],
           "sequential": [
            [
             0,
             "#0d0887"
            ],
            [
             0.1111111111111111,
             "#46039f"
            ],
            [
             0.2222222222222222,
             "#7201a8"
            ],
            [
             0.3333333333333333,
             "#9c179e"
            ],
            [
             0.4444444444444444,
             "#bd3786"
            ],
            [
             0.5555555555555556,
             "#d8576b"
            ],
            [
             0.6666666666666666,
             "#ed7953"
            ],
            [
             0.7777777777777778,
             "#fb9f3a"
            ],
            [
             0.8888888888888888,
             "#fdca26"
            ],
            [
             1,
             "#f0f921"
            ]
           ],
           "sequentialminus": [
            [
             0,
             "#0d0887"
            ],
            [
             0.1111111111111111,
             "#46039f"
            ],
            [
             0.2222222222222222,
             "#7201a8"
            ],
            [
             0.3333333333333333,
             "#9c179e"
            ],
            [
             0.4444444444444444,
             "#bd3786"
            ],
            [
             0.5555555555555556,
             "#d8576b"
            ],
            [
             0.6666666666666666,
             "#ed7953"
            ],
            [
             0.7777777777777778,
             "#fb9f3a"
            ],
            [
             0.8888888888888888,
             "#fdca26"
            ],
            [
             1,
             "#f0f921"
            ]
           ]
          },
          "colorway": [
           "#636efa",
           "#EF553B",
           "#00cc96",
           "#ab63fa",
           "#FFA15A",
           "#19d3f3",
           "#FF6692",
           "#B6E880",
           "#FF97FF",
           "#FECB52"
          ],
          "font": {
           "color": "#2a3f5f"
          },
          "geo": {
           "bgcolor": "white",
           "lakecolor": "white",
           "landcolor": "#E5ECF6",
           "showlakes": true,
           "showland": true,
           "subunitcolor": "white"
          },
          "hoverlabel": {
           "align": "left"
          },
          "hovermode": "closest",
          "mapbox": {
           "style": "light"
          },
          "paper_bgcolor": "white",
          "plot_bgcolor": "#E5ECF6",
          "polar": {
           "angularaxis": {
            "gridcolor": "white",
            "linecolor": "white",
            "ticks": ""
           },
           "bgcolor": "#E5ECF6",
           "radialaxis": {
            "gridcolor": "white",
            "linecolor": "white",
            "ticks": ""
           }
          },
          "scene": {
           "xaxis": {
            "backgroundcolor": "#E5ECF6",
            "gridcolor": "white",
            "gridwidth": 2,
            "linecolor": "white",
            "showbackground": true,
            "ticks": "",
            "zerolinecolor": "white"
           },
           "yaxis": {
            "backgroundcolor": "#E5ECF6",
            "gridcolor": "white",
            "gridwidth": 2,
            "linecolor": "white",
            "showbackground": true,
            "ticks": "",
            "zerolinecolor": "white"
           },
           "zaxis": {
            "backgroundcolor": "#E5ECF6",
            "gridcolor": "white",
            "gridwidth": 2,
            "linecolor": "white",
            "showbackground": true,
            "ticks": "",
            "zerolinecolor": "white"
           }
          },
          "shapedefaults": {
           "line": {
            "color": "#2a3f5f"
           }
          },
          "ternary": {
           "aaxis": {
            "gridcolor": "white",
            "linecolor": "white",
            "ticks": ""
           },
           "baxis": {
            "gridcolor": "white",
            "linecolor": "white",
            "ticks": ""
           },
           "bgcolor": "#E5ECF6",
           "caxis": {
            "gridcolor": "white",
            "linecolor": "white",
            "ticks": ""
           }
          },
          "title": {
           "x": 0.05
          },
          "xaxis": {
           "automargin": true,
           "gridcolor": "white",
           "linecolor": "white",
           "ticks": "",
           "title": {
            "standoff": 15
           },
           "zerolinecolor": "white",
           "zerolinewidth": 2
          },
          "yaxis": {
           "automargin": true,
           "gridcolor": "white",
           "linecolor": "white",
           "ticks": "",
           "title": {
            "standoff": 15
           },
           "zerolinecolor": "white",
           "zerolinewidth": 2
          }
         }
        },
        "xaxis": {
         "anchor": "y",
         "domain": [
          0,
          1
         ],
         "title": {
          "text": "Label"
         }
        },
        "yaxis": {
         "anchor": "x",
         "domain": [
          0,
          1
         ],
         "title": {
          "text": "Wordcount"
         }
        }
       }
      },
      "text/html": "<div>                            <div id=\"44b89d49-a34d-44a0-9259-0e1ed4a90a9f\" class=\"plotly-graph-div\" style=\"height:525px; width:100%;\"></div>            <script type=\"text/javascript\">                require([\"plotly\"], function(Plotly) {                    window.PLOTLYENV=window.PLOTLYENV || {};                                    if (document.getElementById(\"44b89d49-a34d-44a0-9259-0e1ed4a90a9f\")) {                    Plotly.newPlot(                        \"44b89d49-a34d-44a0-9259-0e1ed4a90a9f\",                        [{\"alignmentgroup\": \"True\", \"hovertemplate\": \"Label=%{x}<br>Wordcount=%{y}<extra></extra>\", \"legendgroup\": \"\", \"marker\": {\"color\": \"#636efa\"}, \"name\": \"\", \"notched\": false, \"offsetgroup\": \"\", \"orientation\": \"v\", \"showlegend\": false, \"type\": \"box\", \"x\": [\"Analytical_Report\", \"Analytical_Report\", \"Analytical_Report\", \"Analytical_Report\", \"Analytical_Report\", \"Analytical_Report\", \"Analytical_Report\", \"Analytical_Report\", \"Analytical_Report\", \"Analytical_Report\", \"Analytical_Report\", \"Analytical_Report\", \"Analytical_Report\", \"Analytical_Report\", \"Analytical_Report\", \"Analytical_Report\", \"Analytical_Report\", \"Analytical_Report\", \"Analytical_Report\", \"Analytical_Report\", \"Analytical_Report\", \"Analytical_Report\", \"Analytical_Report\", \"Analytical_Report\", \"Incident_Report\", \"Incident_Report\", \"Incident_Report\", \"Incident_Report\", \"Incident_Report\", \"Incident_Report\", \"Incident_Report\", \"Incident_Report\", \"Incident_Report\", \"Incident_Report\", \"Incident_Report\", \"Incident_Report\", \"Incident_Report\", \"Incident_Report\", \"Incident_Report\", \"Incident_Report\", \"Incident_Report\", \"Incident_Report\", \"Incident_Report\", \"Incident_Report\", \"Incident_Report\", \"Incident_Report\", \"Incident_Report\", \"Incident_Report\", \"Incident_Report\", \"Incident_Report\", \"Incident_Report\", \"Incident_Report\", \"Incident_Report\", \"Incident_Report\", \"Incident_Report\", \"Incident_Report\", \"Incident_Report\", \"Incident_Report\", \"Incident_Report\", \"Incident_Report\", \"Incident_Report\", \"Incident_Report\", \"Incident_Report\", \"Incident_Report\", \"Incident_Report\", \"Incident_Report\", \"Incident_Report\", \"Incident_Report\", \"Incident_Report\", \"Incident_Report\", \"Incident_Report\", \"Incident_Report\", \"Incident_Report\", \"Incident_Report\", \"Incident_Report\", \"Incident_Report\", \"Incident_Report\", \"Incident_Report\", \"Incident_Report\", \"Incident_Report\", \"Incident_Report\", \"Incident_Report\", \"Incident_Report\", \"Incident_Report\", \"Incident_Report\", \"Incident_Report\", \"Incident_Report\", \"Situation_Report\", \"Situation_Report\", \"Situation_Report\", \"Situation_Report\", \"Situation_Report\", \"Situation_Report\", \"Situation_Report\", \"Situation_Report\", \"Situation_Report\", \"Situation_Report\", \"Situation_Report\", \"Situation_Report\", \"Situation_Report\", \"Situation_Report\", \"Situation_Report\", \"Situation_Report\", \"Situation_Report\", \"Situation_Report\", \"Situation_Report\", \"Situation_Report\", \"Situation_Report\", \"Situation_Report\", \"Situation_Report\", \"Situation_Report\", \"Situation_Report\", \"Situation_Report\", \"Situation_Report\", \"Situation_Report\", \"Situation_Report\", \"Situation_Report\", \"Situation_Report\", \"Situation_Report\", \"Situation_Report\", \"Situation_Report\", \"Situation_Report\", \"Situation_Report\", \"Situation_Report\", \"Situation_Report\", \"Situation_Report\", \"Situation_Report\", \"Situation_Report\", \"Situation_Report\", \"Situation_Report\", \"Situation_Report\", \"Situation_Report\", \"Situation_Report\", \"Situation_Report\", \"Situation_Report\", \"Situation_Report\", \"Situation_Report\", \"Situation_Report\", \"Situation_Report\", \"Situation_Report\", \"Situation_Report\", \"Situation_Report\", \"Situation_Report\", \"Situation_Report\", \"Situation_Report\", \"Situation_Report\", \"Situation_Report\", \"Situation_Report\", \"Situation_Report\", \"Situation_Report\", \"Situation_Report\", \"Situation_Report\", \"Situation_Report\", \"Situation_Report\", \"Situation_Report\", \"Situation_Report\", \"Situation_Report\", \"Analytical_Report\", \"Analytical_Report\", \"Analytical_Report\", \"Analytical_Report\", \"Analytical_Report\", \"Analytical_Report\", \"Analytical_Report\", \"Analytical_Report\", \"Situation_Report\", \"Situation_Report\", \"Situation_Report\", \"Situation_Report\", \"Situation_Report\", \"Situation_Report\", \"Situation_Report\", \"Situation_Report\", \"Situation_Report\", \"Situation_Report\", \"Situation_Report\", \"Situation_Report\", \"Situation_Report\", \"Situation_Report\", \"Incident_Report\", \"Incident_Report\", \"Incident_Report\", \"Incident_Report\", \"Incident_Report\", \"Incident_Report\", \"Incident_Report\", \"Incident_Report\", \"Incident_Report\", \"Incident_Report\", \"Profile_Report\", \"Profile_Report\", \"Profile_Report\", \"Profile_Report\", \"Profile_Report\", \"Profile_Report\", \"Profile_Report\", \"Profile_Report\", \"Profile_Report\", \"Profile_Report\", \"Profile_Report\", \"Profile_Report\", \"Profile_Report\", \"Profile_Report\", \"Profile_Report\", \"Profile_Report\", \"Profile_Report\", \"Profile_Report\", \"Profile_Report\", \"Profile_Report\", \"Profile_Report\", \"Profile_Report\", \"Profile_Report\", \"Profile_Report\", \"Profile_Report\", \"Profile_Report\", \"Profile_Report\", \"Profile_Report\", \"Profile_Report\", \"Profile_Report\", \"Profile_Report\", \"Profile_Report\", \"Profile_Report\", \"Profile_Report\", \"Profile_Report\", \"Profile_Report\", \"Profile_Report\", \"Profile_Report\", \"Profile_Report\", \"Profile_Report\", \"Profile_Report\", \"Profile_Report\", \"Profile_Report\", \"Profile_Report\", \"Profile_Report\", \"Profile_Report\", \"Profile_Report\", \"Profile_Report\", \"Profile_Report\", \"Profile_Report\", \"Profile_Report\", \"Profile_Report\", \"Profile_Report\", \"Profile_Report\", \"Profile_Report\", \"Profile_Report\", \"Profile_Report\", \"Profile_Report\", \"Profile_Report\", \"Profile_Report\", \"Profile_Report\", \"Profile_Report\", \"Profile_Report\", \"Profile_Report\", \"Profile_Report\", \"Profile_Report\", \"Profile_Report\", \"Profile_Report\", \"Profile_Report\", \"Profile_Report\", \"Profile_Report\", \"Profile_Report\", \"Profile_Report\", \"Profile_Report\", \"Profile_Report\", \"Profile_Report\", \"Profile_Report\", \"Profile_Report\", \"Profile_Report\", \"Profile_Report\", \"Profile_Report\", \"Profile_Report\", \"Profile_Report\", \"Profile_Report\", \"Profile_Report\", \"Incident_Report\", \"Incident_Report\", \"Incident_Report\", \"Incident_Report\", \"Incident_Report\", \"Incident_Report\", \"Incident_Report\", \"Incident_Report\", \"Incident_Report\", \"Incident_Report\", \"Incident_Report\", \"Incident_Report\", \"Incident_Report\", \"Incident_Report\", \"Incident_Report\", \"Situation_Report\", \"Situation_Report\", \"Situation_Report\", \"Situation_Report\", \"Situation_Report\", \"Situation_Report\", \"Situation_Report\", \"Situation_Report\", \"Situation_Report\", \"Situation_Report\", \"Situation_Report\", \"Situation_Report\", \"Situation_Report\", \"Situation_Report\", \"Situation_Report\", \"Profile_Report\", \"Profile_Report\", \"Profile_Report\", \"Profile_Report\", \"Profile_Report\", \"Profile_Report\", \"Profile_Report\", \"Profile_Report\", \"Profile_Report\", \"Profile_Report\", \"Profile_Report\", \"Profile_Report\", \"Profile_Report\", \"Profile_Report\", \"Profile_Report\", \"Analytical_Report\", \"Analytical_Report\", \"Analytical_Report\", \"Analytical_Report\", \"Analytical_Report\", \"Analytical_Report\", \"Analytical_Report\", \"Analytical_Report\", \"Analytical_Report\", \"Analytical_Report\", \"Analytical_Report\", \"Analytical_Report\", \"Analytical_Report\", \"Analytical_Report\", \"Analytical_Report\"], \"x0\": \" \", \"xaxis\": \"x\", \"y\": [991, 4149, 1512, 2157, 1791, 1709, 1078, 1021, 615, 837, 423, 952, 863, 2649, 1290, 1138, 1263, 1082, 1199, 1949, 1184, 863, 1184, 1871, 285, 917, 253, 274, 216, 338, 247, 598, 140, 144, 445, 621, 250, 175, 408, 285, 403, 183, 635, 360, 216, 207, 123, 387, 210, 184, 798, 383, 337, 43, 185, 418, 267, 809, 332, 137, 90, 358, 254, 654, 443, 185, 381, 129, 253, 431, 209, 124, 187, 210, 160, 153, 118, 936, 134, 326, 408, 421, 234, 127, 118, 153, 123, 1261, 799, 993, 1855, 2209, 205, 874, 1599, 619, 1091, 1190, 878, 865, 600, 800, 467, 765, 774, 657, 738, 786, 737, 822, 833, 500, 775, 549, 507, 768, 669, 772, 873, 614, 682, 1023, 607, 790, 788, 759, 833, 730, 749, 796, 600, 775, 394, 689, 565, 526, 766, 896, 756, 559, 757, 725, 673, 751, 813, 697, 446, 709, 914, 913, 789, 715, 834, 845, 1003, 1440, 1836, 2322, 1279, 1064, 251, 288, 273, 96, 306, 272, 371, 365, 275, 126, 930, 477, 221, 281, 210, 298, 289, 169, 748, 1235, 2636, 781, 113, 172, 87, 78, 92, 149, 80, 68, 119, 86, 1047, 83, 112, 695, 760, 324, 824, 728, 776, 785, 736, 1290, 1086, 396, 891, 15079, 654, 966, 707, 852, 888, 366, 1828, 299, 413, 849, 933, 1274, 867, 733, 410, 341, 244, 1460, 203, 292, 14154, 5918, 890, 690, 456, 3560, 3201, 1505, 1167, 25870, 10669, 1538, 932, 474, 1396, 1908, 1272, 870, 787, 966, 1232, 94, 686, 225, 626, 392, 1357, 619, 220, 2675, 260, 603, 11087, 14427, 1524, 1818, 4664, 2799, 4130, 3679, 843, 6410, 1588, 1295, 1572, 3757, 1496, 856, 596, 867, 1461, 1415, 1016, 1111, 686, 2330, 538, 1565, 529, 1843, 2330, 475, 1484, 1735, 852, 774, 980, 867, 832, 888, 754, 801, 1271, 948, 950, 810, 909, 941, 852, 791, 698, 140, 179, 445, 15079, 72, 192, 46, 206, 264, 165, 53, 252, 245, 80, 1032, 115, 225, 152, 83, 183, 414, 142, 238, 253, 167], \"y0\": \" \", \"yaxis\": \"y\"}],                        {\"boxmode\": \"group\", \"legend\": {\"tracegroupgap\": 0}, \"margin\": {\"t\": 60}, \"template\": {\"data\": {\"bar\": [{\"error_x\": {\"color\": \"#2a3f5f\"}, \"error_y\": {\"color\": \"#2a3f5f\"}, \"marker\": {\"line\": {\"color\": \"#E5ECF6\", \"width\": 0.5}}, \"type\": \"bar\"}], \"barpolar\": [{\"marker\": {\"line\": {\"color\": \"#E5ECF6\", \"width\": 0.5}}, \"type\": \"barpolar\"}], \"carpet\": [{\"aaxis\": {\"endlinecolor\": \"#2a3f5f\", \"gridcolor\": \"white\", \"linecolor\": \"white\", \"minorgridcolor\": \"white\", \"startlinecolor\": \"#2a3f5f\"}, \"baxis\": {\"endlinecolor\": \"#2a3f5f\", \"gridcolor\": \"white\", \"linecolor\": \"white\", \"minorgridcolor\": \"white\", \"startlinecolor\": \"#2a3f5f\"}, \"type\": \"carpet\"}], \"choropleth\": [{\"colorbar\": {\"outlinewidth\": 0, \"ticks\": \"\"}, \"type\": \"choropleth\"}], \"contour\": [{\"colorbar\": {\"outlinewidth\": 0, \"ticks\": \"\"}, \"colorscale\": [[0.0, \"#0d0887\"], [0.1111111111111111, \"#46039f\"], [0.2222222222222222, \"#7201a8\"], [0.3333333333333333, \"#9c179e\"], [0.4444444444444444, \"#bd3786\"], [0.5555555555555556, \"#d8576b\"], [0.6666666666666666, \"#ed7953\"], [0.7777777777777778, \"#fb9f3a\"], [0.8888888888888888, \"#fdca26\"], [1.0, \"#f0f921\"]], \"type\": \"contour\"}], \"contourcarpet\": [{\"colorbar\": {\"outlinewidth\": 0, \"ticks\": \"\"}, \"type\": \"contourcarpet\"}], \"heatmap\": [{\"colorbar\": {\"outlinewidth\": 0, \"ticks\": \"\"}, \"colorscale\": [[0.0, \"#0d0887\"], [0.1111111111111111, \"#46039f\"], [0.2222222222222222, \"#7201a8\"], [0.3333333333333333, \"#9c179e\"], [0.4444444444444444, \"#bd3786\"], [0.5555555555555556, \"#d8576b\"], [0.6666666666666666, \"#ed7953\"], [0.7777777777777778, \"#fb9f3a\"], [0.8888888888888888, \"#fdca26\"], [1.0, \"#f0f921\"]], \"type\": \"heatmap\"}], \"heatmapgl\": [{\"colorbar\": {\"outlinewidth\": 0, \"ticks\": \"\"}, \"colorscale\": [[0.0, \"#0d0887\"], [0.1111111111111111, \"#46039f\"], [0.2222222222222222, \"#7201a8\"], [0.3333333333333333, \"#9c179e\"], [0.4444444444444444, \"#bd3786\"], [0.5555555555555556, \"#d8576b\"], [0.6666666666666666, \"#ed7953\"], [0.7777777777777778, \"#fb9f3a\"], [0.8888888888888888, \"#fdca26\"], [1.0, \"#f0f921\"]], \"type\": \"heatmapgl\"}], \"histogram\": [{\"marker\": {\"colorbar\": {\"outlinewidth\": 0, \"ticks\": \"\"}}, \"type\": \"histogram\"}], \"histogram2d\": [{\"colorbar\": {\"outlinewidth\": 0, \"ticks\": \"\"}, \"colorscale\": [[0.0, \"#0d0887\"], [0.1111111111111111, \"#46039f\"], [0.2222222222222222, \"#7201a8\"], [0.3333333333333333, \"#9c179e\"], [0.4444444444444444, \"#bd3786\"], [0.5555555555555556, \"#d8576b\"], [0.6666666666666666, \"#ed7953\"], [0.7777777777777778, \"#fb9f3a\"], [0.8888888888888888, \"#fdca26\"], [1.0, \"#f0f921\"]], \"type\": \"histogram2d\"}], \"histogram2dcontour\": [{\"colorbar\": {\"outlinewidth\": 0, \"ticks\": \"\"}, \"colorscale\": [[0.0, \"#0d0887\"], [0.1111111111111111, \"#46039f\"], [0.2222222222222222, \"#7201a8\"], [0.3333333333333333, \"#9c179e\"], [0.4444444444444444, \"#bd3786\"], [0.5555555555555556, \"#d8576b\"], [0.6666666666666666, \"#ed7953\"], [0.7777777777777778, \"#fb9f3a\"], [0.8888888888888888, \"#fdca26\"], [1.0, \"#f0f921\"]], \"type\": \"histogram2dcontour\"}], \"mesh3d\": [{\"colorbar\": {\"outlinewidth\": 0, \"ticks\": \"\"}, \"type\": \"mesh3d\"}], \"parcoords\": [{\"line\": {\"colorbar\": {\"outlinewidth\": 0, \"ticks\": \"\"}}, \"type\": \"parcoords\"}], \"pie\": [{\"automargin\": true, \"type\": \"pie\"}], \"scatter\": [{\"marker\": {\"colorbar\": {\"outlinewidth\": 0, \"ticks\": \"\"}}, \"type\": \"scatter\"}], \"scatter3d\": [{\"line\": {\"colorbar\": {\"outlinewidth\": 0, \"ticks\": \"\"}}, \"marker\": {\"colorbar\": {\"outlinewidth\": 0, \"ticks\": \"\"}}, \"type\": \"scatter3d\"}], \"scattercarpet\": [{\"marker\": {\"colorbar\": {\"outlinewidth\": 0, \"ticks\": \"\"}}, \"type\": \"scattercarpet\"}], \"scattergeo\": [{\"marker\": {\"colorbar\": {\"outlinewidth\": 0, \"ticks\": \"\"}}, \"type\": \"scattergeo\"}], \"scattergl\": [{\"marker\": {\"colorbar\": {\"outlinewidth\": 0, \"ticks\": \"\"}}, \"type\": \"scattergl\"}], \"scattermapbox\": [{\"marker\": {\"colorbar\": {\"outlinewidth\": 0, \"ticks\": \"\"}}, \"type\": \"scattermapbox\"}], \"scatterpolar\": [{\"marker\": {\"colorbar\": {\"outlinewidth\": 0, \"ticks\": \"\"}}, \"type\": \"scatterpolar\"}], \"scatterpolargl\": [{\"marker\": {\"colorbar\": {\"outlinewidth\": 0, \"ticks\": \"\"}}, \"type\": \"scatterpolargl\"}], \"scatterternary\": [{\"marker\": {\"colorbar\": {\"outlinewidth\": 0, \"ticks\": \"\"}}, \"type\": \"scatterternary\"}], \"surface\": [{\"colorbar\": {\"outlinewidth\": 0, \"ticks\": \"\"}, \"colorscale\": [[0.0, \"#0d0887\"], [0.1111111111111111, \"#46039f\"], [0.2222222222222222, \"#7201a8\"], [0.3333333333333333, \"#9c179e\"], [0.4444444444444444, \"#bd3786\"], [0.5555555555555556, \"#d8576b\"], [0.6666666666666666, \"#ed7953\"], [0.7777777777777778, \"#fb9f3a\"], [0.8888888888888888, \"#fdca26\"], [1.0, \"#f0f921\"]], \"type\": \"surface\"}], \"table\": [{\"cells\": {\"fill\": {\"color\": \"#EBF0F8\"}, \"line\": {\"color\": \"white\"}}, \"header\": {\"fill\": {\"color\": \"#C8D4E3\"}, \"line\": {\"color\": \"white\"}}, \"type\": \"table\"}]}, \"layout\": {\"annotationdefaults\": {\"arrowcolor\": \"#2a3f5f\", \"arrowhead\": 0, \"arrowwidth\": 1}, \"coloraxis\": {\"colorbar\": {\"outlinewidth\": 0, \"ticks\": \"\"}}, \"colorscale\": {\"diverging\": [[0, \"#8e0152\"], [0.1, \"#c51b7d\"], [0.2, \"#de77ae\"], [0.3, \"#f1b6da\"], [0.4, \"#fde0ef\"], [0.5, \"#f7f7f7\"], [0.6, \"#e6f5d0\"], [0.7, \"#b8e186\"], [0.8, \"#7fbc41\"], [0.9, \"#4d9221\"], [1, \"#276419\"]], \"sequential\": [[0.0, \"#0d0887\"], [0.1111111111111111, \"#46039f\"], [0.2222222222222222, \"#7201a8\"], [0.3333333333333333, \"#9c179e\"], [0.4444444444444444, \"#bd3786\"], [0.5555555555555556, \"#d8576b\"], [0.6666666666666666, \"#ed7953\"], [0.7777777777777778, \"#fb9f3a\"], [0.8888888888888888, \"#fdca26\"], [1.0, \"#f0f921\"]], \"sequentialminus\": [[0.0, \"#0d0887\"], [0.1111111111111111, \"#46039f\"], [0.2222222222222222, \"#7201a8\"], [0.3333333333333333, \"#9c179e\"], [0.4444444444444444, \"#bd3786\"], [0.5555555555555556, \"#d8576b\"], [0.6666666666666666, \"#ed7953\"], [0.7777777777777778, \"#fb9f3a\"], [0.8888888888888888, \"#fdca26\"], [1.0, \"#f0f921\"]]}, \"colorway\": [\"#636efa\", \"#EF553B\", \"#00cc96\", \"#ab63fa\", \"#FFA15A\", \"#19d3f3\", \"#FF6692\", \"#B6E880\", \"#FF97FF\", \"#FECB52\"], \"font\": {\"color\": \"#2a3f5f\"}, \"geo\": {\"bgcolor\": \"white\", \"lakecolor\": \"white\", \"landcolor\": \"#E5ECF6\", \"showlakes\": true, \"showland\": true, \"subunitcolor\": \"white\"}, \"hoverlabel\": {\"align\": \"left\"}, \"hovermode\": \"closest\", \"mapbox\": {\"style\": \"light\"}, \"paper_bgcolor\": \"white\", \"plot_bgcolor\": \"#E5ECF6\", \"polar\": {\"angularaxis\": {\"gridcolor\": \"white\", \"linecolor\": \"white\", \"ticks\": \"\"}, \"bgcolor\": \"#E5ECF6\", \"radialaxis\": {\"gridcolor\": \"white\", \"linecolor\": \"white\", \"ticks\": \"\"}}, \"scene\": {\"xaxis\": {\"backgroundcolor\": \"#E5ECF6\", \"gridcolor\": \"white\", \"gridwidth\": 2, \"linecolor\": \"white\", \"showbackground\": true, \"ticks\": \"\", \"zerolinecolor\": \"white\"}, \"yaxis\": {\"backgroundcolor\": \"#E5ECF6\", \"gridcolor\": \"white\", \"gridwidth\": 2, \"linecolor\": \"white\", \"showbackground\": true, \"ticks\": \"\", \"zerolinecolor\": \"white\"}, \"zaxis\": {\"backgroundcolor\": \"#E5ECF6\", \"gridcolor\": \"white\", \"gridwidth\": 2, \"linecolor\": \"white\", \"showbackground\": true, \"ticks\": \"\", \"zerolinecolor\": \"white\"}}, \"shapedefaults\": {\"line\": {\"color\": \"#2a3f5f\"}}, \"ternary\": {\"aaxis\": {\"gridcolor\": \"white\", \"linecolor\": \"white\", \"ticks\": \"\"}, \"baxis\": {\"gridcolor\": \"white\", \"linecolor\": \"white\", \"ticks\": \"\"}, \"bgcolor\": \"#E5ECF6\", \"caxis\": {\"gridcolor\": \"white\", \"linecolor\": \"white\", \"ticks\": \"\"}}, \"title\": {\"x\": 0.05}, \"xaxis\": {\"automargin\": true, \"gridcolor\": \"white\", \"linecolor\": \"white\", \"ticks\": \"\", \"title\": {\"standoff\": 15}, \"zerolinecolor\": \"white\", \"zerolinewidth\": 2}, \"yaxis\": {\"automargin\": true, \"gridcolor\": \"white\", \"linecolor\": \"white\", \"ticks\": \"\", \"title\": {\"standoff\": 15}, \"zerolinecolor\": \"white\", \"zerolinewidth\": 2}}}, \"xaxis\": {\"anchor\": \"y\", \"domain\": [0.0, 1.0], \"title\": {\"text\": \"Label\"}}, \"yaxis\": {\"anchor\": \"x\", \"domain\": [0.0, 1.0], \"title\": {\"text\": \"Wordcount\"}}},                        {\"responsive\": true}                    ).then(function(){\n                            \nvar gd = document.getElementById('44b89d49-a34d-44a0-9259-0e1ed4a90a9f');\nvar x = new MutationObserver(function (mutations, observer) {{\n        var display = window.getComputedStyle(gd).display;\n        if (!display || display === 'none') {{\n            console.log([gd, 'removed!']);\n            Plotly.purge(gd);\n            observer.disconnect();\n        }}\n}});\n\n// Listen for the removal of the full notebook cells\nvar notebookContainer = gd.closest('#notebook-container');\nif (notebookContainer) {{\n    x.observe(notebookContainer, {childList: true});\n}}\n\n// Listen for the clearing of the current output cell\nvar outputEl = gd.closest('.output');\nif (outputEl) {{\n    x.observe(outputEl, {childList: true});\n}}\n\n                        })                };                });            </script>        </div>"
     },
     "metadata": {}
    }
   ],
   "source": [
    "# 'Analytical_Report' : 0, 'Incident Report' : 1, 'Profile_Report' : 2, 'Report' : 2, 'Situation_Report' : 3 \n",
    "px.box(df, x='Label', y='Wordcount')\n"
   ]
  },
  {
   "cell_type": "code",
   "execution_count": 87,
   "metadata": {},
   "outputs": [
    {
     "output_type": "display_data",
     "data": {
      "application/vnd.plotly.v1+json": {
       "config": {
        "plotlyServerURL": "https://plot.ly"
       },
       "data": [
        {
         "type": "bar",
         "x": [
          "Analytical Reports",
          "Incident Reports",
          "Profile Reports",
          "Situation Reports"
         ],
         "y": [
          0.5049465620538843,
          0.5796377151607416,
          0.4797740979669948,
          0.4719722996775231
         ]
        }
       ],
       "layout": {
        "template": {
         "data": {
          "bar": [
           {
            "error_x": {
             "color": "#2a3f5f"
            },
            "error_y": {
             "color": "#2a3f5f"
            },
            "marker": {
             "line": {
              "color": "#E5ECF6",
              "width": 0.5
             }
            },
            "type": "bar"
           }
          ],
          "barpolar": [
           {
            "marker": {
             "line": {
              "color": "#E5ECF6",
              "width": 0.5
             }
            },
            "type": "barpolar"
           }
          ],
          "carpet": [
           {
            "aaxis": {
             "endlinecolor": "#2a3f5f",
             "gridcolor": "white",
             "linecolor": "white",
             "minorgridcolor": "white",
             "startlinecolor": "#2a3f5f"
            },
            "baxis": {
             "endlinecolor": "#2a3f5f",
             "gridcolor": "white",
             "linecolor": "white",
             "minorgridcolor": "white",
             "startlinecolor": "#2a3f5f"
            },
            "type": "carpet"
           }
          ],
          "choropleth": [
           {
            "colorbar": {
             "outlinewidth": 0,
             "ticks": ""
            },
            "type": "choropleth"
           }
          ],
          "contour": [
           {
            "colorbar": {
             "outlinewidth": 0,
             "ticks": ""
            },
            "colorscale": [
             [
              0,
              "#0d0887"
             ],
             [
              0.1111111111111111,
              "#46039f"
             ],
             [
              0.2222222222222222,
              "#7201a8"
             ],
             [
              0.3333333333333333,
              "#9c179e"
             ],
             [
              0.4444444444444444,
              "#bd3786"
             ],
             [
              0.5555555555555556,
              "#d8576b"
             ],
             [
              0.6666666666666666,
              "#ed7953"
             ],
             [
              0.7777777777777778,
              "#fb9f3a"
             ],
             [
              0.8888888888888888,
              "#fdca26"
             ],
             [
              1,
              "#f0f921"
             ]
            ],
            "type": "contour"
           }
          ],
          "contourcarpet": [
           {
            "colorbar": {
             "outlinewidth": 0,
             "ticks": ""
            },
            "type": "contourcarpet"
           }
          ],
          "heatmap": [
           {
            "colorbar": {
             "outlinewidth": 0,
             "ticks": ""
            },
            "colorscale": [
             [
              0,
              "#0d0887"
             ],
             [
              0.1111111111111111,
              "#46039f"
             ],
             [
              0.2222222222222222,
              "#7201a8"
             ],
             [
              0.3333333333333333,
              "#9c179e"
             ],
             [
              0.4444444444444444,
              "#bd3786"
             ],
             [
              0.5555555555555556,
              "#d8576b"
             ],
             [
              0.6666666666666666,
              "#ed7953"
             ],
             [
              0.7777777777777778,
              "#fb9f3a"
             ],
             [
              0.8888888888888888,
              "#fdca26"
             ],
             [
              1,
              "#f0f921"
             ]
            ],
            "type": "heatmap"
           }
          ],
          "heatmapgl": [
           {
            "colorbar": {
             "outlinewidth": 0,
             "ticks": ""
            },
            "colorscale": [
             [
              0,
              "#0d0887"
             ],
             [
              0.1111111111111111,
              "#46039f"
             ],
             [
              0.2222222222222222,
              "#7201a8"
             ],
             [
              0.3333333333333333,
              "#9c179e"
             ],
             [
              0.4444444444444444,
              "#bd3786"
             ],
             [
              0.5555555555555556,
              "#d8576b"
             ],
             [
              0.6666666666666666,
              "#ed7953"
             ],
             [
              0.7777777777777778,
              "#fb9f3a"
             ],
             [
              0.8888888888888888,
              "#fdca26"
             ],
             [
              1,
              "#f0f921"
             ]
            ],
            "type": "heatmapgl"
           }
          ],
          "histogram": [
           {
            "marker": {
             "colorbar": {
              "outlinewidth": 0,
              "ticks": ""
             }
            },
            "type": "histogram"
           }
          ],
          "histogram2d": [
           {
            "colorbar": {
             "outlinewidth": 0,
             "ticks": ""
            },
            "colorscale": [
             [
              0,
              "#0d0887"
             ],
             [
              0.1111111111111111,
              "#46039f"
             ],
             [
              0.2222222222222222,
              "#7201a8"
             ],
             [
              0.3333333333333333,
              "#9c179e"
             ],
             [
              0.4444444444444444,
              "#bd3786"
             ],
             [
              0.5555555555555556,
              "#d8576b"
             ],
             [
              0.6666666666666666,
              "#ed7953"
             ],
             [
              0.7777777777777778,
              "#fb9f3a"
             ],
             [
              0.8888888888888888,
              "#fdca26"
             ],
             [
              1,
              "#f0f921"
             ]
            ],
            "type": "histogram2d"
           }
          ],
          "histogram2dcontour": [
           {
            "colorbar": {
             "outlinewidth": 0,
             "ticks": ""
            },
            "colorscale": [
             [
              0,
              "#0d0887"
             ],
             [
              0.1111111111111111,
              "#46039f"
             ],
             [
              0.2222222222222222,
              "#7201a8"
             ],
             [
              0.3333333333333333,
              "#9c179e"
             ],
             [
              0.4444444444444444,
              "#bd3786"
             ],
             [
              0.5555555555555556,
              "#d8576b"
             ],
             [
              0.6666666666666666,
              "#ed7953"
             ],
             [
              0.7777777777777778,
              "#fb9f3a"
             ],
             [
              0.8888888888888888,
              "#fdca26"
             ],
             [
              1,
              "#f0f921"
             ]
            ],
            "type": "histogram2dcontour"
           }
          ],
          "mesh3d": [
           {
            "colorbar": {
             "outlinewidth": 0,
             "ticks": ""
            },
            "type": "mesh3d"
           }
          ],
          "parcoords": [
           {
            "line": {
             "colorbar": {
              "outlinewidth": 0,
              "ticks": ""
             }
            },
            "type": "parcoords"
           }
          ],
          "pie": [
           {
            "automargin": true,
            "type": "pie"
           }
          ],
          "scatter": [
           {
            "marker": {
             "colorbar": {
              "outlinewidth": 0,
              "ticks": ""
             }
            },
            "type": "scatter"
           }
          ],
          "scatter3d": [
           {
            "line": {
             "colorbar": {
              "outlinewidth": 0,
              "ticks": ""
             }
            },
            "marker": {
             "colorbar": {
              "outlinewidth": 0,
              "ticks": ""
             }
            },
            "type": "scatter3d"
           }
          ],
          "scattercarpet": [
           {
            "marker": {
             "colorbar": {
              "outlinewidth": 0,
              "ticks": ""
             }
            },
            "type": "scattercarpet"
           }
          ],
          "scattergeo": [
           {
            "marker": {
             "colorbar": {
              "outlinewidth": 0,
              "ticks": ""
             }
            },
            "type": "scattergeo"
           }
          ],
          "scattergl": [
           {
            "marker": {
             "colorbar": {
              "outlinewidth": 0,
              "ticks": ""
             }
            },
            "type": "scattergl"
           }
          ],
          "scattermapbox": [
           {
            "marker": {
             "colorbar": {
              "outlinewidth": 0,
              "ticks": ""
             }
            },
            "type": "scattermapbox"
           }
          ],
          "scatterpolar": [
           {
            "marker": {
             "colorbar": {
              "outlinewidth": 0,
              "ticks": ""
             }
            },
            "type": "scatterpolar"
           }
          ],
          "scatterpolargl": [
           {
            "marker": {
             "colorbar": {
              "outlinewidth": 0,
              "ticks": ""
             }
            },
            "type": "scatterpolargl"
           }
          ],
          "scatterternary": [
           {
            "marker": {
             "colorbar": {
              "outlinewidth": 0,
              "ticks": ""
             }
            },
            "type": "scatterternary"
           }
          ],
          "surface": [
           {
            "colorbar": {
             "outlinewidth": 0,
             "ticks": ""
            },
            "colorscale": [
             [
              0,
              "#0d0887"
             ],
             [
              0.1111111111111111,
              "#46039f"
             ],
             [
              0.2222222222222222,
              "#7201a8"
             ],
             [
              0.3333333333333333,
              "#9c179e"
             ],
             [
              0.4444444444444444,
              "#bd3786"
             ],
             [
              0.5555555555555556,
              "#d8576b"
             ],
             [
              0.6666666666666666,
              "#ed7953"
             ],
             [
              0.7777777777777778,
              "#fb9f3a"
             ],
             [
              0.8888888888888888,
              "#fdca26"
             ],
             [
              1,
              "#f0f921"
             ]
            ],
            "type": "surface"
           }
          ],
          "table": [
           {
            "cells": {
             "fill": {
              "color": "#EBF0F8"
             },
             "line": {
              "color": "white"
             }
            },
            "header": {
             "fill": {
              "color": "#C8D4E3"
             },
             "line": {
              "color": "white"
             }
            },
            "type": "table"
           }
          ]
         },
         "layout": {
          "annotationdefaults": {
           "arrowcolor": "#2a3f5f",
           "arrowhead": 0,
           "arrowwidth": 1
          },
          "coloraxis": {
           "colorbar": {
            "outlinewidth": 0,
            "ticks": ""
           }
          },
          "colorscale": {
           "diverging": [
            [
             0,
             "#8e0152"
            ],
            [
             0.1,
             "#c51b7d"
            ],
            [
             0.2,
             "#de77ae"
            ],
            [
             0.3,
             "#f1b6da"
            ],
            [
             0.4,
             "#fde0ef"
            ],
            [
             0.5,
             "#f7f7f7"
            ],
            [
             0.6,
             "#e6f5d0"
            ],
            [
             0.7,
             "#b8e186"
            ],
            [
             0.8,
             "#7fbc41"
            ],
            [
             0.9,
             "#4d9221"
            ],
            [
             1,
             "#276419"
            ]
           ],
           "sequential": [
            [
             0,
             "#0d0887"
            ],
            [
             0.1111111111111111,
             "#46039f"
            ],
            [
             0.2222222222222222,
             "#7201a8"
            ],
            [
             0.3333333333333333,
             "#9c179e"
            ],
            [
             0.4444444444444444,
             "#bd3786"
            ],
            [
             0.5555555555555556,
             "#d8576b"
            ],
            [
             0.6666666666666666,
             "#ed7953"
            ],
            [
             0.7777777777777778,
             "#fb9f3a"
            ],
            [
             0.8888888888888888,
             "#fdca26"
            ],
            [
             1,
             "#f0f921"
            ]
           ],
           "sequentialminus": [
            [
             0,
             "#0d0887"
            ],
            [
             0.1111111111111111,
             "#46039f"
            ],
            [
             0.2222222222222222,
             "#7201a8"
            ],
            [
             0.3333333333333333,
             "#9c179e"
            ],
            [
             0.4444444444444444,
             "#bd3786"
            ],
            [
             0.5555555555555556,
             "#d8576b"
            ],
            [
             0.6666666666666666,
             "#ed7953"
            ],
            [
             0.7777777777777778,
             "#fb9f3a"
            ],
            [
             0.8888888888888888,
             "#fdca26"
            ],
            [
             1,
             "#f0f921"
            ]
           ]
          },
          "colorway": [
           "#636efa",
           "#EF553B",
           "#00cc96",
           "#ab63fa",
           "#FFA15A",
           "#19d3f3",
           "#FF6692",
           "#B6E880",
           "#FF97FF",
           "#FECB52"
          ],
          "font": {
           "color": "#2a3f5f"
          },
          "geo": {
           "bgcolor": "white",
           "lakecolor": "white",
           "landcolor": "#E5ECF6",
           "showlakes": true,
           "showland": true,
           "subunitcolor": "white"
          },
          "hoverlabel": {
           "align": "left"
          },
          "hovermode": "closest",
          "mapbox": {
           "style": "light"
          },
          "paper_bgcolor": "white",
          "plot_bgcolor": "#E5ECF6",
          "polar": {
           "angularaxis": {
            "gridcolor": "white",
            "linecolor": "white",
            "ticks": ""
           },
           "bgcolor": "#E5ECF6",
           "radialaxis": {
            "gridcolor": "white",
            "linecolor": "white",
            "ticks": ""
           }
          },
          "scene": {
           "xaxis": {
            "backgroundcolor": "#E5ECF6",
            "gridcolor": "white",
            "gridwidth": 2,
            "linecolor": "white",
            "showbackground": true,
            "ticks": "",
            "zerolinecolor": "white"
           },
           "yaxis": {
            "backgroundcolor": "#E5ECF6",
            "gridcolor": "white",
            "gridwidth": 2,
            "linecolor": "white",
            "showbackground": true,
            "ticks": "",
            "zerolinecolor": "white"
           },
           "zaxis": {
            "backgroundcolor": "#E5ECF6",
            "gridcolor": "white",
            "gridwidth": 2,
            "linecolor": "white",
            "showbackground": true,
            "ticks": "",
            "zerolinecolor": "white"
           }
          },
          "shapedefaults": {
           "line": {
            "color": "#2a3f5f"
           }
          },
          "ternary": {
           "aaxis": {
            "gridcolor": "white",
            "linecolor": "white",
            "ticks": ""
           },
           "baxis": {
            "gridcolor": "white",
            "linecolor": "white",
            "ticks": ""
           },
           "bgcolor": "#E5ECF6",
           "caxis": {
            "gridcolor": "white",
            "linecolor": "white",
            "ticks": ""
           }
          },
          "title": {
           "x": 0.05
          },
          "xaxis": {
           "automargin": true,
           "gridcolor": "white",
           "linecolor": "white",
           "ticks": "",
           "title": {
            "standoff": 15
           },
           "zerolinecolor": "white",
           "zerolinewidth": 2
          },
          "yaxis": {
           "automargin": true,
           "gridcolor": "white",
           "linecolor": "white",
           "ticks": "",
           "title": {
            "standoff": 15
           },
           "zerolinecolor": "white",
           "zerolinewidth": 2
          }
         }
        }
       }
      }
     },
     "metadata": {}
    }
   ],
   "source": [
    "voc = grouped['Vocabulary_per_wordcount'].agg([np.mean, np.std])\n",
    "fig = go.Figure(data=go.Bar(y=voc['mean'],x=['Analytical Reports', 'Incident Reports', 'Profile Reports', 'Situation Reports']), )\n",
    "fig.show()"
   ]
  }
 ]
}