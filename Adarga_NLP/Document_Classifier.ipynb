{
 "metadata": {
  "language_info": {
   "codemirror_mode": {
    "name": "ipython",
    "version": 3
   },
   "file_extension": ".py",
   "mimetype": "text/x-python",
   "name": "python",
   "nbconvert_exporter": "python",
   "pygments_lexer": "ipython3",
   "version": "3.8.6-final"
  },
  "orig_nbformat": 2,
  "kernelspec": {
   "name": "python3",
   "display_name": "Python 3.8.6 64-bit",
   "metadata": {
    "interpreter": {
     "hash": "bf129b43a22b2b0045d7828343cbf0892ffe50f28827e6107525999ad0fe9e10"
    }
   }
  }
 },
 "nbformat": 4,
 "nbformat_minor": 2,
 "cells": [
  {
   "source": [
    "# Document Classification Project\n"
   ],
   "cell_type": "markdown",
   "metadata": {}
  },
  {
   "cell_type": "code",
   "execution_count": 1,
   "metadata": {},
   "outputs": [],
   "source": [
    "# set up libraries \n",
    "import pandas as pd\n",
    "import glob\n",
    "import os"
   ]
  },
  {
   "cell_type": "code",
   "execution_count": null,
   "metadata": {},
   "outputs": [],
   "source": [
    "# Get data\n",
    "main_path = r'C:\\Users\\gobli\\Documents\\AI CORE\\Machine-Learning-Algos\\Adarga_NLP\\Data'\n",
    "end_path = ['Analytical_Report', 'Incident_Report', 'Situation_Report']\n",
    "for end in end_path:\n",
    "    path = main_path + end\n",
    "    all_files = glob.glob(os.path.join(path, \"*.txt\")) \n",
    "\n",
    "    df_from_each_file = [pd.read(f, sep=\"\\r\",names=[\"Link\"]) for f in all_files]\n",
    "print(df_from_each_file)\n",
    "\n",
    "# HOw to read entire file in as an x???\n",
    "\n",
    "# total_df = pd.concat(df_from_each_file, ignore_index=True)\n",
    "# total_df\n",
    "# pd.read_csv()"
   ]
  }
 ]
}