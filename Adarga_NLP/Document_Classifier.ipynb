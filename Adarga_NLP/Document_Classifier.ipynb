{
 "metadata": {
  "language_info": {
   "codemirror_mode": {
    "name": "ipython",
    "version": 3
   },
   "file_extension": ".py",
   "mimetype": "text/x-python",
   "name": "python",
   "nbconvert_exporter": "python",
   "pygments_lexer": "ipython3",
   "version": "3.8.6-final"
  },
  "orig_nbformat": 2,
  "kernelspec": {
   "name": "python3",
   "display_name": "Python 3.8.6 64-bit",
   "metadata": {
    "interpreter": {
     "hash": "bf129b43a22b2b0045d7828343cbf0892ffe50f28827e6107525999ad0fe9e10"
    }
   }
  }
 },
 "nbformat": 4,
 "nbformat_minor": 2,
 "cells": [
  {
   "source": [
    "# Document Classification Project\n"
   ],
   "cell_type": "markdown",
   "metadata": {}
  },
  {
   "cell_type": "code",
   "execution_count": 2,
   "metadata": {},
   "outputs": [],
   "source": [
    "# set up libraries \n",
    "import pandas as pd\n",
    "import glob\n",
    "import os\n"
   ]
  },
  {
   "cell_type": "code",
   "execution_count": 29,
   "metadata": {
    "tags": []
   },
   "outputs": [
    {
     "output_type": "stream",
     "name": "stdout",
     "text": [
      "                                                 Text              Label\n0   C:/Users/gobli/Documents/AI CORE/Machine-Learn...  Analytical_Report\n1   C:/Users/gobli/Documents/AI CORE/Machine-Learn...  Analytical_Report\n2   C:/Users/gobli/Documents/AI CORE/Machine-Learn...  Analytical_Report\n3   C:/Users/gobli/Documents/AI CORE/Machine-Learn...  Analytical_Report\n4   C:/Users/gobli/Documents/AI CORE/Machine-Learn...  Analytical_Report\n..                                                ...                ...\n65  C:/Users/gobli/Documents/AI CORE/Machine-Learn...   Situation_Report\n66  C:/Users/gobli/Documents/AI CORE/Machine-Learn...   Situation_Report\n67  C:/Users/gobli/Documents/AI CORE/Machine-Learn...   Situation_Report\n68  C:/Users/gobli/Documents/AI CORE/Machine-Learn...   Situation_Report\n69  C:/Users/gobli/Documents/AI CORE/Machine-Learn...   Situation_Report\n\n[157 rows x 2 columns]\n"
     ]
    }
   ],
   "source": [
    "# Get data\n",
    "df = pd.DataFrame(columns=['Text', 'Label'])\n",
    "main_path = r'C:/Users/gobli/Documents/AI CORE/Machine-Learning-Algos/Adarga_NLP/Data/'\n",
    "end_path = ['Analytical_Report', 'Incident_Report', 'Situation_Report']\n",
    "for end in end_path:\n",
    "    path = main_path + end\n",
    "    all_files = glob.glob(os.path.join(path, \"*.txt\")) \n",
    "    # print(all_files[0])\n",
    "    data = [[f, end] for f in all_files]\n",
    "    # print(pd.DataFrame(data, columns=['Text', 'Label']))\n",
    "    df = df.append(pd.DataFrame(data, columns=['Text', 'Label']))\n",
    "print(df)\n"
   ]
  }
 ]
}