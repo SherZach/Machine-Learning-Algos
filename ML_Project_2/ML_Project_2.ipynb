{
 "metadata": {
  "language_info": {
   "codemirror_mode": {
    "name": "ipython",
    "version": 3
   },
   "file_extension": ".py",
   "mimetype": "text/x-python",
   "name": "python",
   "nbconvert_exporter": "python",
   "pygments_lexer": "ipython3",
   "version": "3.8.6-final"
  },
  "orig_nbformat": 2,
  "kernelspec": {
   "name": "Python 3.8.6 64-bit",
   "display_name": "Python 3.8.6 64-bit",
   "metadata": {
    "interpreter": {
     "hash": "03cd2618a86d57bdf1e13ac9fea40245a5e8eaf90cdbb6415b3fe95ffa9984c9"
    }
   }
  }
 },
 "nbformat": 4,
 "nbformat_minor": 2,
 "cells": [
  {
   "source": [
    "# Data Science Project - Detecting Fraudulent Credit Card Transactions\n",
    "\n",
    "The research question here is to investigate whether we can determine a credit card transation to be fraudulent, using the Credit Card Fraud Detection dataset from Kaggle.\n",
    "\n",
    "First we need to import necessary libraries and load in the data. "
   ],
   "cell_type": "markdown",
   "metadata": {}
  },
  {
   "cell_type": "code",
   "execution_count": 2,
   "metadata": {},
   "outputs": [
    {
     "output_type": "execute_result",
     "data": {
      "text/plain": [
       "       Time        V1        V2        V3  ...       V27       V28  Amount  Class\n",
       "0   71852.0 -0.584007  0.880079  1.320090  ...  0.102098  0.144502   42.81      0\n",
       "1   48336.0  1.326714 -0.823441 -0.127404  ... -0.021529  0.003230   75.00      0\n",
       "2  166298.0  2.097691 -0.076097 -1.743719  ... -0.020643 -0.079921    2.29      0\n",
       "3   40650.0 -1.593912  2.215525  0.210067  ...  0.346683  0.104860    8.99      0\n",
       "4  121428.0  1.863194  0.265005 -0.261564  ... -0.003506 -0.061238    0.00      0\n",
       "\n",
       "[5 rows x 31 columns]"
      ],
      "text/html": "<div>\n<style scoped>\n    .dataframe tbody tr th:only-of-type {\n        vertical-align: middle;\n    }\n\n    .dataframe tbody tr th {\n        vertical-align: top;\n    }\n\n    .dataframe thead th {\n        text-align: right;\n    }\n</style>\n<table border=\"1\" class=\"dataframe\">\n  <thead>\n    <tr style=\"text-align: right;\">\n      <th></th>\n      <th>Time</th>\n      <th>V1</th>\n      <th>V2</th>\n      <th>V3</th>\n      <th>V4</th>\n      <th>V5</th>\n      <th>V6</th>\n      <th>V7</th>\n      <th>V8</th>\n      <th>V9</th>\n      <th>V10</th>\n      <th>V11</th>\n      <th>V12</th>\n      <th>V13</th>\n      <th>V14</th>\n      <th>V15</th>\n      <th>V16</th>\n      <th>V17</th>\n      <th>V18</th>\n      <th>V19</th>\n      <th>V20</th>\n      <th>V21</th>\n      <th>V22</th>\n      <th>V23</th>\n      <th>V24</th>\n      <th>V25</th>\n      <th>V26</th>\n      <th>V27</th>\n      <th>V28</th>\n      <th>Amount</th>\n      <th>Class</th>\n    </tr>\n  </thead>\n  <tbody>\n    <tr>\n      <th>0</th>\n      <td>71852.0</td>\n      <td>-0.584007</td>\n      <td>0.880079</td>\n      <td>1.320090</td>\n      <td>0.001509</td>\n      <td>0.292260</td>\n      <td>-0.990634</td>\n      <td>1.120755</td>\n      <td>-0.166826</td>\n      <td>-0.501695</td>\n      <td>-0.694423</td>\n      <td>-0.706512</td>\n      <td>-0.164179</td>\n      <td>-0.276469</td>\n      <td>0.284019</td>\n      <td>0.164088</td>\n      <td>0.265888</td>\n      <td>-0.739878</td>\n      <td>-0.034332</td>\n      <td>-1.077470</td>\n      <td>-0.106804</td>\n      <td>0.167209</td>\n      <td>0.361133</td>\n      <td>-0.125141</td>\n      <td>0.375231</td>\n      <td>0.029598</td>\n      <td>-0.559438</td>\n      <td>0.102098</td>\n      <td>0.144502</td>\n      <td>42.81</td>\n      <td>0</td>\n    </tr>\n    <tr>\n      <th>1</th>\n      <td>48336.0</td>\n      <td>1.326714</td>\n      <td>-0.823441</td>\n      <td>-0.127404</td>\n      <td>-0.979830</td>\n      <td>-0.625116</td>\n      <td>-0.104941</td>\n      <td>-0.636415</td>\n      <td>0.050208</td>\n      <td>-0.785860</td>\n      <td>0.815473</td>\n      <td>0.200606</td>\n      <td>-1.002079</td>\n      <td>-1.025594</td>\n      <td>0.271240</td>\n      <td>0.320012</td>\n      <td>1.751346</td>\n      <td>-0.362698</td>\n      <td>-0.350818</td>\n      <td>1.235828</td>\n      <td>0.164916</td>\n      <td>0.109578</td>\n      <td>-0.011447</td>\n      <td>-0.212676</td>\n      <td>-0.859332</td>\n      <td>0.507870</td>\n      <td>-0.199817</td>\n      <td>-0.021529</td>\n      <td>0.003230</td>\n      <td>75.00</td>\n      <td>0</td>\n    </tr>\n    <tr>\n      <th>2</th>\n      <td>166298.0</td>\n      <td>2.097691</td>\n      <td>-0.076097</td>\n      <td>-1.743719</td>\n      <td>-0.011746</td>\n      <td>0.597501</td>\n      <td>-0.332470</td>\n      <td>0.130716</td>\n      <td>-0.174237</td>\n      <td>0.383371</td>\n      <td>0.171848</td>\n      <td>0.110069</td>\n      <td>0.740958</td>\n      <td>0.344720</td>\n      <td>0.589561</td>\n      <td>0.147784</td>\n      <td>0.230686</td>\n      <td>-1.103407</td>\n      <td>0.675318</td>\n      <td>0.395078</td>\n      <td>-0.192933</td>\n      <td>0.233496</td>\n      <td>0.825427</td>\n      <td>-0.143247</td>\n      <td>-1.115397</td>\n      <td>0.374189</td>\n      <td>-0.056085</td>\n      <td>-0.020643</td>\n      <td>-0.079921</td>\n      <td>2.29</td>\n      <td>0</td>\n    </tr>\n    <tr>\n      <th>3</th>\n      <td>40650.0</td>\n      <td>-1.593912</td>\n      <td>2.215525</td>\n      <td>0.210067</td>\n      <td>-0.236255</td>\n      <td>-0.002224</td>\n      <td>-0.058601</td>\n      <td>-0.392776</td>\n      <td>-2.005520</td>\n      <td>-0.306309</td>\n      <td>-0.253465</td>\n      <td>-0.892002</td>\n      <td>0.681270</td>\n      <td>1.539975</td>\n      <td>-0.407657</td>\n      <td>0.740105</td>\n      <td>0.687552</td>\n      <td>-0.019201</td>\n      <td>0.040053</td>\n      <td>0.133313</td>\n      <td>-0.258684</td>\n      <td>1.995801</td>\n      <td>-1.554302</td>\n      <td>0.261539</td>\n      <td>-0.531345</td>\n      <td>0.124584</td>\n      <td>0.146124</td>\n      <td>0.346683</td>\n      <td>0.104860</td>\n      <td>8.99</td>\n      <td>0</td>\n    </tr>\n    <tr>\n      <th>4</th>\n      <td>121428.0</td>\n      <td>1.863194</td>\n      <td>0.265005</td>\n      <td>-0.261564</td>\n      <td>3.853830</td>\n      <td>0.220877</td>\n      <td>0.773558</td>\n      <td>-0.296455</td>\n      <td>0.207090</td>\n      <td>-0.487512</td>\n      <td>1.454433</td>\n      <td>-0.245666</td>\n      <td>0.610215</td>\n      <td>-0.153871</td>\n      <td>-0.147691</td>\n      <td>-2.586887</td>\n      <td>0.606259</td>\n      <td>-0.701786</td>\n      <td>0.034701</td>\n      <td>-0.923304</td>\n      <td>-0.311545</td>\n      <td>0.118870</td>\n      <td>0.611417</td>\n      <td>0.034731</td>\n      <td>-0.387779</td>\n      <td>0.103574</td>\n      <td>0.140670</td>\n      <td>-0.003506</td>\n      <td>-0.061238</td>\n      <td>0.00</td>\n      <td>0</td>\n    </tr>\n  </tbody>\n</table>\n</div>"
     },
     "metadata": {},
     "execution_count": 2
    }
   ],
   "source": [
    "\"\"\" Identify whether a credit card transaction is fraudulent or not. Using credit card transaction data from Kaggle \"\"\"\n",
    "\n",
    "import numpy as np\n",
    "import pandas as pd\n",
    "\n",
    "# Load the test and training data\n",
    "test_data = pd.read_csv(\".\\Data\\creditcard_test.csv\")\n",
    "train_data = pd.read_csv(\".\\Data\\creditcard_train.csv\")\n",
    "\n",
    "train_data.head()\n"
   ]
  },
  {
   "source": [
    "Next we perform some early exploratory data anaylsis on the dataset."
   ],
   "cell_type": "markdown",
   "metadata": {}
  },
  {
   "cell_type": "code",
   "execution_count": null,
   "metadata": {},
   "outputs": [],
   "source": [
    "# Review what exploratory data analysis is and what all the steps are\n"
   ]
  },
  {
   "source": [
    "Research dealing with imbalanced data and briefly discuss the difference between undersampling and oversampling (about one paragraph each)\n",
    "\n",
    ": (write paragraphs here)\n"
   ],
   "cell_type": "markdown",
   "metadata": {}
  },
  {
   "source": [
    "Now we should try to identify influencial variables by performing futher exploratory analysis whilst also cleaning up the data."
   ],
   "cell_type": "markdown",
   "metadata": {}
  },
  {
   "cell_type": "code",
   "execution_count": null,
   "metadata": {},
   "outputs": [],
   "source": [
    "# Do main data cleaning stuff here\n",
    "# Identify influencial variables"
   ]
  },
  {
   "source": [
    "Now we want to visualise the data so we need to perform dimensionality reduction."
   ],
   "cell_type": "markdown",
   "metadata": {}
  },
  {
   "cell_type": "code",
   "execution_count": null,
   "metadata": {},
   "outputs": [],
   "source": [
    "# Do dimensonality reduction \n",
    "# Do some good plt plots"
   ]
  },
  {
   "source": [
    "Identify and discuss at least 2 suitable evaluation metrics for this task. Then classify the data."
   ],
   "cell_type": "markdown",
   "metadata": {}
  },
  {
   "cell_type": "code",
   "execution_count": null,
   "metadata": {},
   "outputs": [],
   "source": [
    "# Research what evaluation metrics are good\n",
    "# Learn what it means by classify"
   ]
  },
  {
   "source": [
    "Using a model based method, identify the top 8 most influential variables in the dataset\n"
   ],
   "cell_type": "markdown",
   "metadata": {}
  },
  {
   "cell_type": "code",
   "execution_count": null,
   "metadata": {},
   "outputs": [],
   "source": [
    "# Run a model here to get the top 8 most influential variables"
   ]
  }
 ]
}