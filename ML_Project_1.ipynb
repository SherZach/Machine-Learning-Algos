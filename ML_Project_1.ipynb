{
 "metadata": {
  "language_info": {
   "codemirror_mode": {
    "name": "ipython",
    "version": 3
   },
   "file_extension": ".py",
   "mimetype": "text/x-python",
   "name": "python",
   "nbconvert_exporter": "python",
   "pygments_lexer": "ipython3",
   "version": "3.8.5-final"
  },
  "orig_nbformat": 2,
  "kernelspec": {
   "name": "python_defaultSpec_1599484974534",
   "display_name": "Python 3.8.5 32-bit"
  }
 },
 "nbformat": 4,
 "nbformat_minor": 2,
 "cells": [
  {
   "cell_type": "code",
   "execution_count": 11,
   "metadata": {
    "tags": []
   },
   "outputs": [
    {
     "output_type": "stream",
     "name": "stdout",
     "text": "Total rows:  177\nTraining set rows:  141\nTest set rows:  74\n"
    }
   ],
   "source": [
    "# Split data into training and test set\n",
    "import numpy as np\n",
    "import pandas as pd\n",
    "\n",
    "d = pd.read_csv('wine\\wine.csv', delimiter=';')\n",
    "print(\"Total rows: \", len(d))\n",
    "\n",
    "train_idxs = np.random.choice(range(len(d)), size=int(0.8*len(d)))\n",
    "train = d.iloc[train_idxs]\n",
    "print(\"Training set rows: \",len(train))\n",
    "\n",
    "test_idxs = np.full(len(d), True)\n",
    "test_idxs[train_idxs] = False\n",
    "test = d.iloc[test_idxs]\n",
    "print(\"Test set rows: \",len(test))\n",
    "\n",
    "train.to_csv('wine-train.csv')\n",
    "test.to_csv('wine-test.csv')\n"
   ]
  },
  {
   "cell_type": "code",
   "execution_count": 12,
   "metadata": {
    "tags": []
   },
   "outputs": [
    {
     "output_type": "stream",
     "name": "stdout",
     "text": "Training set rows:  112\nCross val set rows:  69\n"
    }
   ],
   "source": [
    "# Split training data into training and cross validation sets\n",
    "d = pd.read_csv('wine-train.csv', delimiter=';')\n",
    "train_idxs = np.random.choice(range(len(d)), size=int(0.8*len(d)))\n",
    "train = d.iloc[train_idxs]\n",
    "\n",
    "cross_val_idxs = np.full(len(d), True)\n",
    "cross_val_idxs[train_idxs] = False\n",
    "cross_val = d.iloc[cross_val_idxs]\n",
    "\n",
    "print(\"Training set rows: \",len(train))\n",
    "print(\"Cross val set rows: \",len(cross_val))\n",
    "\n"
   ]
  }
 ]
}