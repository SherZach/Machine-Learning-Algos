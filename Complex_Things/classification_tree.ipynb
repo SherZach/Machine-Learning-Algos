{
 "metadata": {
  "language_info": {
   "codemirror_mode": {
    "name": "ipython",
    "version": 3
   },
   "file_extension": ".py",
   "mimetype": "text/x-python",
   "name": "python",
   "nbconvert_exporter": "python",
   "pygments_lexer": "ipython3",
   "version": "3.8.5-final"
  },
  "orig_nbformat": 2,
  "kernelspec": {
   "name": "python_defaultSpec_1597788981518",
   "display_name": "Python 3.8.5 32-bit"
  }
 },
 "nbformat": 4,
 "nbformat_minor": 2,
 "cells": [
  {
   "cell_type": "code",
   "execution_count": 1,
   "metadata": {
    "tags": []
   },
   "outputs": [
    {
     "output_type": "display_data",
     "data": {
      "text/plain": "<Figure size 432x288 with 1 Axes>",
      "image/svg+xml": "<?xml version=\"1.0\" encoding=\"utf-8\" standalone=\"no\"?>\r\n<!DOCTYPE svg PUBLIC \"-//W3C//DTD SVG 1.1//EN\"\r\n  \"http://www.w3.org/Graphics/SVG/1.1/DTD/svg11.dtd\">\r\n<!-- Created with matplotlib (https://matplotlib.org/) -->\r\n<svg height=\"248.518125pt\" version=\"1.1\" viewBox=\"0 0 377.304688 248.518125\" width=\"377.304688pt\" xmlns=\"http://www.w3.org/2000/svg\" xmlns:xlink=\"http://www.w3.org/1999/xlink\">\r\n <metadata>\r\n  <rdf:RDF xmlns:cc=\"http://creativecommons.org/ns#\" xmlns:dc=\"http://purl.org/dc/elements/1.1/\" xmlns:rdf=\"http://www.w3.org/1999/02/22-rdf-syntax-ns#\">\r\n   <cc:Work>\r\n    <dc:type rdf:resource=\"http://purl.org/dc/dcmitype/StillImage\"/>\r\n    <dc:date>2020-08-18T23:52:07.722569</dc:date>\r\n    <dc:format>image/svg+xml</dc:format>\r\n    <dc:creator>\r\n     <cc:Agent>\r\n      <dc:title>Matplotlib v3.3.0, https://matplotlib.org/</dc:title>\r\n     </cc:Agent>\r\n    </dc:creator>\r\n   </cc:Work>\r\n  </rdf:RDF>\r\n </metadata>\r\n <defs>\r\n  <style type=\"text/css\">*{stroke-linecap:butt;stroke-linejoin:round;}</style>\r\n </defs>\r\n <g id=\"figure_1\">\r\n  <g id=\"patch_1\">\r\n   <path d=\"M 0 248.518125 \r\nL 377.304688 248.518125 \r\nL 377.304688 0 \r\nL 0 0 \r\nz\r\n\" style=\"fill:none;\"/>\r\n  </g>\r\n  <g id=\"axes_1\">\r\n   <g id=\"patch_2\">\r\n    <path d=\"M 35.304688 224.64 \r\nL 370.104688 224.64 \r\nL 370.104688 7.2 \r\nL 35.304688 7.2 \r\nz\r\n\" style=\"fill:#ffffff;\"/>\r\n   </g>\r\n   <g id=\"PathCollection_1\">\r\n    <defs>\r\n     <path d=\"M 0 3 \r\nC 0.795609 3 1.55874 2.683901 2.12132 2.12132 \r\nC 2.683901 1.55874 3 0.795609 3 0 \r\nC 3 -0.795609 2.683901 -1.55874 2.12132 -2.12132 \r\nC 1.55874 -2.683901 0.795609 -3 0 -3 \r\nC -0.795609 -3 -1.55874 -2.683901 -2.12132 -2.12132 \r\nC -2.683901 -1.55874 -3 -0.795609 -3 0 \r\nC -3 0.795609 -2.683901 1.55874 -2.12132 2.12132 \r\nC -1.55874 2.683901 -0.795609 3 0 3 \r\nz\r\n\" id=\"md78aff9a49\" style=\"stroke:#e6194b;\"/>\r\n    </defs>\r\n    <g clip-path=\"url(#p2d2efd66f6)\">\r\n     <use style=\"fill:#e6194b;stroke:#e6194b;\" x=\"240.140603\" xlink:href=\"#md78aff9a49\" y=\"176.924617\"/>\r\n     <use style=\"fill:#e6194b;stroke:#e6194b;\" x=\"116.33562\" xlink:href=\"#md78aff9a49\" y=\"72.427046\"/>\r\n     <use style=\"fill:#e6194b;stroke:#e6194b;\" x=\"226.82036\" xlink:href=\"#md78aff9a49\" y=\"117.881599\"/>\r\n     <use style=\"fill:#e6194b;stroke:#e6194b;\" x=\"181.867958\" xlink:href=\"#md78aff9a49\" y=\"31.502849\"/>\r\n     <use style=\"fill:#e6194b;stroke:#e6194b;\" x=\"205.366135\" xlink:href=\"#md78aff9a49\" y=\"58.099347\"/>\r\n     <use style=\"fill:#e6194b;stroke:#e6194b;\" x=\"173.017766\" xlink:href=\"#md78aff9a49\" y=\"17.083636\"/>\r\n     <use style=\"fill:#e6194b;stroke:#e6194b;\" x=\"98.994911\" xlink:href=\"#md78aff9a49\" y=\"26.455121\"/>\r\n     <use style=\"fill:#e6194b;stroke:#e6194b;\" x=\"227.931124\" xlink:href=\"#md78aff9a49\" y=\"92.597854\"/>\r\n     <use style=\"fill:#e6194b;stroke:#e6194b;\" x=\"219.148325\" xlink:href=\"#md78aff9a49\" y=\"146.160394\"/>\r\n     <use style=\"fill:#e6194b;stroke:#e6194b;\" x=\"143.1801\" xlink:href=\"#md78aff9a49\" y=\"28.332864\"/>\r\n     <use style=\"fill:#e6194b;stroke:#e6194b;\" x=\"174.277608\" xlink:href=\"#md78aff9a49\" y=\"62.226904\"/>\r\n     <use style=\"fill:#e6194b;stroke:#e6194b;\" x=\"153.534014\" xlink:href=\"#md78aff9a49\" y=\"127.426423\"/>\r\n     <use style=\"fill:#e6194b;stroke:#e6194b;\" x=\"113.409893\" xlink:href=\"#md78aff9a49\" y=\"32.573317\"/>\r\n     <use style=\"fill:#e6194b;stroke:#e6194b;\" x=\"200.745021\" xlink:href=\"#md78aff9a49\" y=\"105.798626\"/>\r\n     <use style=\"fill:#e6194b;stroke:#e6194b;\" x=\"225.759404\" xlink:href=\"#md78aff9a49\" y=\"107.980028\"/>\r\n     <use style=\"fill:#e6194b;stroke:#e6194b;\" x=\"210.788707\" xlink:href=\"#md78aff9a49\" y=\"114.575751\"/>\r\n     <use style=\"fill:#e6194b;stroke:#e6194b;\" x=\"203.912613\" xlink:href=\"#md78aff9a49\" y=\"148.639301\"/>\r\n     <use style=\"fill:#e6194b;stroke:#e6194b;\" x=\"186.012743\" xlink:href=\"#md78aff9a49\" y=\"132.721288\"/>\r\n     <use style=\"fill:#e6194b;stroke:#e6194b;\" x=\"156.991674\" xlink:href=\"#md78aff9a49\" y=\"38.363326\"/>\r\n     <use style=\"fill:#e6194b;stroke:#e6194b;\" x=\"311.32227\" xlink:href=\"#md78aff9a49\" y=\"69.900348\"/>\r\n     <use style=\"fill:#e6194b;stroke:#e6194b;\" x=\"140.394675\" xlink:href=\"#md78aff9a49\" y=\"119.687748\"/>\r\n     <use style=\"fill:#e6194b;stroke:#e6194b;\" x=\"139.6532\" xlink:href=\"#md78aff9a49\" y=\"56.174375\"/>\r\n     <use style=\"fill:#e6194b;stroke:#e6194b;\" x=\"244.848975\" xlink:href=\"#md78aff9a49\" y=\"23.686612\"/>\r\n     <use style=\"fill:#e6194b;stroke:#e6194b;\" x=\"255.222937\" xlink:href=\"#md78aff9a49\" y=\"76.763026\"/>\r\n     <use style=\"fill:#e6194b;stroke:#e6194b;\" x=\"354.886506\" xlink:href=\"#md78aff9a49\" y=\"42.978827\"/>\r\n     <use style=\"fill:#e6194b;stroke:#e6194b;\" x=\"231.023467\" xlink:href=\"#md78aff9a49\" y=\"66.524335\"/>\r\n     <use style=\"fill:#e6194b;stroke:#e6194b;\" x=\"159.908212\" xlink:href=\"#md78aff9a49\" y=\"54.397287\"/>\r\n     <use style=\"fill:#e6194b;stroke:#e6194b;\" x=\"200.721062\" xlink:href=\"#md78aff9a49\" y=\"106.189888\"/>\r\n     <use style=\"fill:#e6194b;stroke:#e6194b;\" x=\"137.116071\" xlink:href=\"#md78aff9a49\" y=\"119.024472\"/>\r\n     <use style=\"fill:#e6194b;stroke:#e6194b;\" x=\"138.860339\" xlink:href=\"#md78aff9a49\" y=\"67.563809\"/>\r\n    </g>\r\n   </g>\r\n   <g id=\"PathCollection_2\">\r\n    <defs>\r\n     <path d=\"M 0 3 \r\nC 0.795609 3 1.55874 2.683901 2.12132 2.12132 \r\nC 2.683901 1.55874 3 0.795609 3 0 \r\nC 3 -0.795609 2.683901 -1.55874 2.12132 -2.12132 \r\nC 1.55874 -2.683901 0.795609 -3 0 -3 \r\nC -0.795609 -3 -1.55874 -2.683901 -2.12132 -2.12132 \r\nC -2.683901 -1.55874 -3 -0.795609 -3 0 \r\nC -3 0.795609 -2.683901 1.55874 -2.12132 2.12132 \r\nC -1.55874 2.683901 -0.795609 3 0 3 \r\nz\r\n\" id=\"m2f427a7a6f\" style=\"stroke:#3cb44b;\"/>\r\n    </defs>\r\n    <g clip-path=\"url(#p2d2efd66f6)\">\r\n     <use style=\"fill:#3cb44b;stroke:#3cb44b;\" x=\"163.228571\" xlink:href=\"#m2f427a7a6f\" y=\"138.902115\"/>\r\n     <use style=\"fill:#3cb44b;stroke:#3cb44b;\" x=\"241.801429\" xlink:href=\"#m2f427a7a6f\" y=\"109.447797\"/>\r\n     <use style=\"fill:#3cb44b;stroke:#3cb44b;\" x=\"111.351114\" xlink:href=\"#m2f427a7a6f\" y=\"114.452715\"/>\r\n     <use style=\"fill:#3cb44b;stroke:#3cb44b;\" x=\"126.000113\" xlink:href=\"#m2f427a7a6f\" y=\"141.259895\"/>\r\n     <use style=\"fill:#3cb44b;stroke:#3cb44b;\" x=\"174.908613\" xlink:href=\"#m2f427a7a6f\" y=\"199.856285\"/>\r\n     <use style=\"fill:#3cb44b;stroke:#3cb44b;\" x=\"315.822672\" xlink:href=\"#m2f427a7a6f\" y=\"214.756364\"/>\r\n     <use style=\"fill:#3cb44b;stroke:#3cb44b;\" x=\"171.546074\" xlink:href=\"#m2f427a7a6f\" y=\"50.167252\"/>\r\n     <use style=\"fill:#3cb44b;stroke:#3cb44b;\" x=\"188.999346\" xlink:href=\"#m2f427a7a6f\" y=\"130.921364\"/>\r\n     <use style=\"fill:#3cb44b;stroke:#3cb44b;\" x=\"63.145003\" xlink:href=\"#m2f427a7a6f\" y=\"128.381215\"/>\r\n     <use style=\"fill:#3cb44b;stroke:#3cb44b;\" x=\"130.083096\" xlink:href=\"#m2f427a7a6f\" y=\"98.81699\"/>\r\n     <use style=\"fill:#3cb44b;stroke:#3cb44b;\" x=\"216.171363\" xlink:href=\"#m2f427a7a6f\" y=\"162.237889\"/>\r\n     <use style=\"fill:#3cb44b;stroke:#3cb44b;\" x=\"187.390001\" xlink:href=\"#m2f427a7a6f\" y=\"111.978469\"/>\r\n     <use style=\"fill:#3cb44b;stroke:#3cb44b;\" x=\"154.262032\" xlink:href=\"#m2f427a7a6f\" y=\"154.960412\"/>\r\n     <use style=\"fill:#3cb44b;stroke:#3cb44b;\" x=\"154.339159\" xlink:href=\"#m2f427a7a6f\" y=\"109.904025\"/>\r\n     <use style=\"fill:#3cb44b;stroke:#3cb44b;\" x=\"137.472686\" xlink:href=\"#m2f427a7a6f\" y=\"132.399812\"/>\r\n     <use style=\"fill:#3cb44b;stroke:#3cb44b;\" x=\"116.924144\" xlink:href=\"#m2f427a7a6f\" y=\"167.71644\"/>\r\n     <use style=\"fill:#3cb44b;stroke:#3cb44b;\" x=\"247.396586\" xlink:href=\"#m2f427a7a6f\" y=\"148.403875\"/>\r\n     <use style=\"fill:#3cb44b;stroke:#3cb44b;\" x=\"193.972609\" xlink:href=\"#m2f427a7a6f\" y=\"23.191696\"/>\r\n     <use style=\"fill:#3cb44b;stroke:#3cb44b;\" x=\"50.522869\" xlink:href=\"#m2f427a7a6f\" y=\"140.21617\"/>\r\n     <use style=\"fill:#3cb44b;stroke:#3cb44b;\" x=\"148.135631\" xlink:href=\"#m2f427a7a6f\" y=\"111.381471\"/>\r\n     <use style=\"fill:#3cb44b;stroke:#3cb44b;\" x=\"152.8491\" xlink:href=\"#m2f427a7a6f\" y=\"104.57457\"/>\r\n     <use style=\"fill:#3cb44b;stroke:#3cb44b;\" x=\"146.691103\" xlink:href=\"#m2f427a7a6f\" y=\"148.639001\"/>\r\n     <use style=\"fill:#3cb44b;stroke:#3cb44b;\" x=\"234.912385\" xlink:href=\"#m2f427a7a6f\" y=\"155.792573\"/>\r\n     <use style=\"fill:#3cb44b;stroke:#3cb44b;\" x=\"199.704941\" xlink:href=\"#m2f427a7a6f\" y=\"92.33248\"/>\r\n     <use style=\"fill:#3cb44b;stroke:#3cb44b;\" x=\"83.917772\" xlink:href=\"#m2f427a7a6f\" y=\"111.124169\"/>\r\n     <use style=\"fill:#3cb44b;stroke:#3cb44b;\" x=\"68.174949\" xlink:href=\"#m2f427a7a6f\" y=\"140.803591\"/>\r\n     <use style=\"fill:#3cb44b;stroke:#3cb44b;\" x=\"237.253147\" xlink:href=\"#m2f427a7a6f\" y=\"113.279891\"/>\r\n     <use style=\"fill:#3cb44b;stroke:#3cb44b;\" x=\"238.240761\" xlink:href=\"#m2f427a7a6f\" y=\"131.925205\"/>\r\n     <use style=\"fill:#3cb44b;stroke:#3cb44b;\" x=\"241.397188\" xlink:href=\"#m2f427a7a6f\" y=\"78.444616\"/>\r\n     <use style=\"fill:#3cb44b;stroke:#3cb44b;\" x=\"267.406191\" xlink:href=\"#m2f427a7a6f\" y=\"64.967892\"/>\r\n    </g>\r\n   </g>\r\n   <g id=\"matplotlib.axis_1\">\r\n    <g id=\"xtick_1\">\r\n     <g id=\"line2d_1\">\r\n      <defs>\r\n       <path d=\"M 0 0 \r\nL 0 3.5 \r\n\" id=\"mefa0ee03ec\" style=\"stroke:#000000;stroke-width:0.8;\"/>\r\n      </defs>\r\n      <g>\r\n       <use style=\"stroke:#000000;stroke-width:0.8;\" x=\"64.501246\" xlink:href=\"#mefa0ee03ec\" y=\"224.64\"/>\r\n      </g>\r\n     </g>\r\n     <g id=\"text_1\">\r\n      <!-- −20 -->\r\n      <g transform=\"translate(53.948902 239.238437)scale(0.1 -0.1)\">\r\n       <defs>\r\n        <path d=\"M 10.59375 35.5 \r\nL 73.1875 35.5 \r\nL 73.1875 27.203125 \r\nL 10.59375 27.203125 \r\nz\r\n\" id=\"DejaVuSans-8722\"/>\r\n        <path d=\"M 19.1875 8.296875 \r\nL 53.609375 8.296875 \r\nL 53.609375 0 \r\nL 7.328125 0 \r\nL 7.328125 8.296875 \r\nQ 12.9375 14.109375 22.625 23.890625 \r\nQ 32.328125 33.6875 34.8125 36.53125 \r\nQ 39.546875 41.84375 41.421875 45.53125 \r\nQ 43.3125 49.21875 43.3125 52.78125 \r\nQ 43.3125 58.59375 39.234375 62.25 \r\nQ 35.15625 65.921875 28.609375 65.921875 \r\nQ 23.96875 65.921875 18.8125 64.3125 \r\nQ 13.671875 62.703125 7.8125 59.421875 \r\nL 7.8125 69.390625 \r\nQ 13.765625 71.78125 18.9375 73 \r\nQ 24.125 74.21875 28.421875 74.21875 \r\nQ 39.75 74.21875 46.484375 68.546875 \r\nQ 53.21875 62.890625 53.21875 53.421875 \r\nQ 53.21875 48.921875 51.53125 44.890625 \r\nQ 49.859375 40.875 45.40625 35.40625 \r\nQ 44.1875 33.984375 37.640625 27.21875 \r\nQ 31.109375 20.453125 19.1875 8.296875 \r\nz\r\n\" id=\"DejaVuSans-50\"/>\r\n        <path d=\"M 31.78125 66.40625 \r\nQ 24.171875 66.40625 20.328125 58.90625 \r\nQ 16.5 51.421875 16.5 36.375 \r\nQ 16.5 21.390625 20.328125 13.890625 \r\nQ 24.171875 6.390625 31.78125 6.390625 \r\nQ 39.453125 6.390625 43.28125 13.890625 \r\nQ 47.125 21.390625 47.125 36.375 \r\nQ 47.125 51.421875 43.28125 58.90625 \r\nQ 39.453125 66.40625 31.78125 66.40625 \r\nz\r\nM 31.78125 74.21875 \r\nQ 44.046875 74.21875 50.515625 64.515625 \r\nQ 56.984375 54.828125 56.984375 36.375 \r\nQ 56.984375 17.96875 50.515625 8.265625 \r\nQ 44.046875 -1.421875 31.78125 -1.421875 \r\nQ 19.53125 -1.421875 13.0625 8.265625 \r\nQ 6.59375 17.96875 6.59375 36.375 \r\nQ 6.59375 54.828125 13.0625 64.515625 \r\nQ 19.53125 74.21875 31.78125 74.21875 \r\nz\r\n\" id=\"DejaVuSans-48\"/>\r\n       </defs>\r\n       <use xlink:href=\"#DejaVuSans-8722\"/>\r\n       <use x=\"83.789062\" xlink:href=\"#DejaVuSans-50\"/>\r\n       <use x=\"147.412109\" xlink:href=\"#DejaVuSans-48\"/>\r\n      </g>\r\n     </g>\r\n    </g>\r\n    <g id=\"xtick_2\">\r\n     <g id=\"line2d_2\">\r\n      <g>\r\n       <use style=\"stroke:#000000;stroke-width:0.8;\" x=\"121.818734\" xlink:href=\"#mefa0ee03ec\" y=\"224.64\"/>\r\n      </g>\r\n     </g>\r\n     <g id=\"text_2\">\r\n      <!-- −10 -->\r\n      <g transform=\"translate(111.26639 239.238437)scale(0.1 -0.1)\">\r\n       <defs>\r\n        <path d=\"M 12.40625 8.296875 \r\nL 28.515625 8.296875 \r\nL 28.515625 63.921875 \r\nL 10.984375 60.40625 \r\nL 10.984375 69.390625 \r\nL 28.421875 72.90625 \r\nL 38.28125 72.90625 \r\nL 38.28125 8.296875 \r\nL 54.390625 8.296875 \r\nL 54.390625 0 \r\nL 12.40625 0 \r\nz\r\n\" id=\"DejaVuSans-49\"/>\r\n       </defs>\r\n       <use xlink:href=\"#DejaVuSans-8722\"/>\r\n       <use x=\"83.789062\" xlink:href=\"#DejaVuSans-49\"/>\r\n       <use x=\"147.412109\" xlink:href=\"#DejaVuSans-48\"/>\r\n      </g>\r\n     </g>\r\n    </g>\r\n    <g id=\"xtick_3\">\r\n     <g id=\"line2d_3\">\r\n      <g>\r\n       <use style=\"stroke:#000000;stroke-width:0.8;\" x=\"179.136222\" xlink:href=\"#mefa0ee03ec\" y=\"224.64\"/>\r\n      </g>\r\n     </g>\r\n     <g id=\"text_3\">\r\n      <!-- 0 -->\r\n      <g transform=\"translate(175.954972 239.238437)scale(0.1 -0.1)\">\r\n       <use xlink:href=\"#DejaVuSans-48\"/>\r\n      </g>\r\n     </g>\r\n    </g>\r\n    <g id=\"xtick_4\">\r\n     <g id=\"line2d_4\">\r\n      <g>\r\n       <use style=\"stroke:#000000;stroke-width:0.8;\" x=\"236.45371\" xlink:href=\"#mefa0ee03ec\" y=\"224.64\"/>\r\n      </g>\r\n     </g>\r\n     <g id=\"text_4\">\r\n      <!-- 10 -->\r\n      <g transform=\"translate(230.09121 239.238437)scale(0.1 -0.1)\">\r\n       <use xlink:href=\"#DejaVuSans-49\"/>\r\n       <use x=\"63.623047\" xlink:href=\"#DejaVuSans-48\"/>\r\n      </g>\r\n     </g>\r\n    </g>\r\n    <g id=\"xtick_5\">\r\n     <g id=\"line2d_5\">\r\n      <g>\r\n       <use style=\"stroke:#000000;stroke-width:0.8;\" x=\"293.771198\" xlink:href=\"#mefa0ee03ec\" y=\"224.64\"/>\r\n      </g>\r\n     </g>\r\n     <g id=\"text_5\">\r\n      <!-- 20 -->\r\n      <g transform=\"translate(287.408698 239.238437)scale(0.1 -0.1)\">\r\n       <use xlink:href=\"#DejaVuSans-50\"/>\r\n       <use x=\"63.623047\" xlink:href=\"#DejaVuSans-48\"/>\r\n      </g>\r\n     </g>\r\n    </g>\r\n    <g id=\"xtick_6\">\r\n     <g id=\"line2d_6\">\r\n      <g>\r\n       <use style=\"stroke:#000000;stroke-width:0.8;\" x=\"351.088686\" xlink:href=\"#mefa0ee03ec\" y=\"224.64\"/>\r\n      </g>\r\n     </g>\r\n     <g id=\"text_6\">\r\n      <!-- 30 -->\r\n      <g transform=\"translate(344.726186 239.238437)scale(0.1 -0.1)\">\r\n       <defs>\r\n        <path d=\"M 40.578125 39.3125 \r\nQ 47.65625 37.796875 51.625 33 \r\nQ 55.609375 28.21875 55.609375 21.1875 \r\nQ 55.609375 10.40625 48.1875 4.484375 \r\nQ 40.765625 -1.421875 27.09375 -1.421875 \r\nQ 22.515625 -1.421875 17.65625 -0.515625 \r\nQ 12.796875 0.390625 7.625 2.203125 \r\nL 7.625 11.71875 \r\nQ 11.71875 9.328125 16.59375 8.109375 \r\nQ 21.484375 6.890625 26.8125 6.890625 \r\nQ 36.078125 6.890625 40.9375 10.546875 \r\nQ 45.796875 14.203125 45.796875 21.1875 \r\nQ 45.796875 27.640625 41.28125 31.265625 \r\nQ 36.765625 34.90625 28.71875 34.90625 \r\nL 20.21875 34.90625 \r\nL 20.21875 43.015625 \r\nL 29.109375 43.015625 \r\nQ 36.375 43.015625 40.234375 45.921875 \r\nQ 44.09375 48.828125 44.09375 54.296875 \r\nQ 44.09375 59.90625 40.109375 62.90625 \r\nQ 36.140625 65.921875 28.71875 65.921875 \r\nQ 24.65625 65.921875 20.015625 65.03125 \r\nQ 15.375 64.15625 9.8125 62.3125 \r\nL 9.8125 71.09375 \r\nQ 15.4375 72.65625 20.34375 73.4375 \r\nQ 25.25 74.21875 29.59375 74.21875 \r\nQ 40.828125 74.21875 47.359375 69.109375 \r\nQ 53.90625 64.015625 53.90625 55.328125 \r\nQ 53.90625 49.265625 50.4375 45.09375 \r\nQ 46.96875 40.921875 40.578125 39.3125 \r\nz\r\n\" id=\"DejaVuSans-51\"/>\r\n       </defs>\r\n       <use xlink:href=\"#DejaVuSans-51\"/>\r\n       <use x=\"63.623047\" xlink:href=\"#DejaVuSans-48\"/>\r\n      </g>\r\n     </g>\r\n    </g>\r\n   </g>\r\n   <g id=\"matplotlib.axis_2\">\r\n    <g id=\"ytick_1\">\r\n     <g id=\"line2d_7\">\r\n      <defs>\r\n       <path d=\"M 0 0 \r\nL -3.5 0 \r\n\" id=\"m3578c9f252\" style=\"stroke:#000000;stroke-width:0.8;\"/>\r\n      </defs>\r\n      <g>\r\n       <use style=\"stroke:#000000;stroke-width:0.8;\" x=\"35.304688\" xlink:href=\"#m3578c9f252\" y=\"222.195547\"/>\r\n      </g>\r\n     </g>\r\n     <g id=\"text_7\">\r\n      <!-- −30 -->\r\n      <g transform=\"translate(7.2 225.994766)scale(0.1 -0.1)\">\r\n       <use xlink:href=\"#DejaVuSans-8722\"/>\r\n       <use x=\"83.789062\" xlink:href=\"#DejaVuSans-51\"/>\r\n       <use x=\"147.412109\" xlink:href=\"#DejaVuSans-48\"/>\r\n      </g>\r\n     </g>\r\n    </g>\r\n    <g id=\"ytick_2\">\r\n     <g id=\"line2d_8\">\r\n      <g>\r\n       <use style=\"stroke:#000000;stroke-width:0.8;\" x=\"35.304688\" xlink:href=\"#m3578c9f252\" y=\"184.467258\"/>\r\n      </g>\r\n     </g>\r\n     <g id=\"text_8\">\r\n      <!-- −20 -->\r\n      <g transform=\"translate(7.2 188.266476)scale(0.1 -0.1)\">\r\n       <use xlink:href=\"#DejaVuSans-8722\"/>\r\n       <use x=\"83.789062\" xlink:href=\"#DejaVuSans-50\"/>\r\n       <use x=\"147.412109\" xlink:href=\"#DejaVuSans-48\"/>\r\n      </g>\r\n     </g>\r\n    </g>\r\n    <g id=\"ytick_3\">\r\n     <g id=\"line2d_9\">\r\n      <g>\r\n       <use style=\"stroke:#000000;stroke-width:0.8;\" x=\"35.304688\" xlink:href=\"#m3578c9f252\" y=\"146.738968\"/>\r\n      </g>\r\n     </g>\r\n     <g id=\"text_9\">\r\n      <!-- −10 -->\r\n      <g transform=\"translate(7.2 150.538187)scale(0.1 -0.1)\">\r\n       <use xlink:href=\"#DejaVuSans-8722\"/>\r\n       <use x=\"83.789062\" xlink:href=\"#DejaVuSans-49\"/>\r\n       <use x=\"147.412109\" xlink:href=\"#DejaVuSans-48\"/>\r\n      </g>\r\n     </g>\r\n    </g>\r\n    <g id=\"ytick_4\">\r\n     <g id=\"line2d_10\">\r\n      <g>\r\n       <use style=\"stroke:#000000;stroke-width:0.8;\" x=\"35.304688\" xlink:href=\"#m3578c9f252\" y=\"109.010678\"/>\r\n      </g>\r\n     </g>\r\n     <g id=\"text_10\">\r\n      <!-- 0 -->\r\n      <g transform=\"translate(21.942188 112.809897)scale(0.1 -0.1)\">\r\n       <use xlink:href=\"#DejaVuSans-48\"/>\r\n      </g>\r\n     </g>\r\n    </g>\r\n    <g id=\"ytick_5\">\r\n     <g id=\"line2d_11\">\r\n      <g>\r\n       <use style=\"stroke:#000000;stroke-width:0.8;\" x=\"35.304688\" xlink:href=\"#m3578c9f252\" y=\"71.282388\"/>\r\n      </g>\r\n     </g>\r\n     <g id=\"text_11\">\r\n      <!-- 10 -->\r\n      <g transform=\"translate(15.579688 75.081607)scale(0.1 -0.1)\">\r\n       <use xlink:href=\"#DejaVuSans-49\"/>\r\n       <use x=\"63.623047\" xlink:href=\"#DejaVuSans-48\"/>\r\n      </g>\r\n     </g>\r\n    </g>\r\n    <g id=\"ytick_6\">\r\n     <g id=\"line2d_12\">\r\n      <g>\r\n       <use style=\"stroke:#000000;stroke-width:0.8;\" x=\"35.304688\" xlink:href=\"#m3578c9f252\" y=\"33.554099\"/>\r\n      </g>\r\n     </g>\r\n     <g id=\"text_12\">\r\n      <!-- 20 -->\r\n      <g transform=\"translate(15.579688 37.353317)scale(0.1 -0.1)\">\r\n       <use xlink:href=\"#DejaVuSans-50\"/>\r\n       <use x=\"63.623047\" xlink:href=\"#DejaVuSans-48\"/>\r\n      </g>\r\n     </g>\r\n    </g>\r\n   </g>\r\n   <g id=\"patch_3\">\r\n    <path d=\"M 35.304688 224.64 \r\nL 35.304688 7.2 \r\n\" style=\"fill:none;stroke:#000000;stroke-linecap:square;stroke-linejoin:miter;stroke-width:0.8;\"/>\r\n   </g>\r\n   <g id=\"patch_4\">\r\n    <path d=\"M 370.104688 224.64 \r\nL 370.104688 7.2 \r\n\" style=\"fill:none;stroke:#000000;stroke-linecap:square;stroke-linejoin:miter;stroke-width:0.8;\"/>\r\n   </g>\r\n   <g id=\"patch_5\">\r\n    <path d=\"M 35.304688 224.64 \r\nL 370.104688 224.64 \r\n\" style=\"fill:none;stroke:#000000;stroke-linecap:square;stroke-linejoin:miter;stroke-width:0.8;\"/>\r\n   </g>\r\n   <g id=\"patch_6\">\r\n    <path d=\"M 35.304688 7.2 \r\nL 370.104688 7.2 \r\n\" style=\"fill:none;stroke:#000000;stroke-linecap:square;stroke-linejoin:miter;stroke-width:0.8;\"/>\r\n   </g>\r\n  </g>\r\n </g>\r\n <defs>\r\n  <clipPath id=\"p2d2efd66f6\">\r\n   <rect height=\"217.44\" width=\"334.8\" x=\"35.304688\" y=\"7.2\"/>\r\n  </clipPath>\r\n </defs>\r\n</svg>\r\n",
      "image/png": "[encoded data removed]"
     },
     "metadata": {
      "needs_background": "light"
     }
    },
    {
     "output_type": "stream",
     "name": "stdout",
     "text": "[[ 10.64324052 -18.00079983]\n [-10.95662143   9.69660506]\n [ -2.77535726  -7.92281797]\n [ 10.93299955  -0.11585962]\n [  8.31930004  -2.35126499]\n [  0.47659733  20.54369011]\n [-11.82625243  -1.44242862]\n [  4.57624962  13.49420582]\n [ -9.27048801  -8.54775487]\n [ -1.06746752  24.365547  ]\n [-13.98199988  21.88160601]\n [ -0.73757744 -24.07890938]\n [  8.51309149   4.35026987]\n [ 23.84725045 -28.02822129]\n [  6.98078443  -9.84664716]\n [ -6.2731504   21.38390447]\n [ -0.8476669   12.40018427]\n [ -4.46673585  -4.88115012]\n [-11.46706367  20.25995926]\n [ -1.324229    15.59663232]\n [  3.77001858   0.85136447]\n [  1.72078792  -5.80749507]\n [-20.23661941  -5.13422075]\n [ -8.55814303   2.70186858]\n [  6.46140328 -14.1080369 ]\n [  8.13419832   0.27317704]\n [  1.44001065  -0.78662226]\n [  5.52230855  -1.47503991]\n [ -4.33972084 -12.17911921]\n [ -4.32626475  -0.23678437]\n [ -7.26890464  -6.19936235]\n [-10.85394353 -15.56014395]\n [ 11.90916874 -10.44128876]\n [  4.32265824 -10.50368923]\n [  1.19972484  -6.28457061]\n [ -3.86348888  18.72529929]\n [ 23.06207966  10.3663141 ]\n [ -6.75911458  -2.82999041]\n [  2.58845724  22.74658694]\n [ -6.88847729  14.00442579]\n [ 11.46469524  22.6154078 ]\n [-22.43876288  -8.27111227]\n [ 13.27460738   8.54733998]\n [ -5.40857456  -0.62838594]\n [ -4.58623057   1.17580431]\n [ -5.66059673 -10.50360969]\n [ 30.66259345  17.50194659]\n [  9.73108984 -12.39968609]\n [  3.58855907   4.42060796]\n [  9.05260267  11.26113684]\n [ -3.35464982  14.47544838]\n [-16.61246038  -0.56018718]\n [  3.76583837   0.74765909]\n [ -7.33112218  -2.65418696]\n [-19.35906057  -8.42680996]\n [ 10.13947522  -1.1315682 ]\n [ 10.31178105  -6.07356638]\n [ 10.86247288   8.10162947]\n [ -7.02680528  10.98562098]\n [ 15.40018097  11.67367693]] [0 0 1 1 0 0 1 0 1 0 0 1 0 1 0 0 0 0 0 1 0 1 1 1 1 0 1 0 1 1 1 1 1 0 0 0 0\n 0 1 0 0 1 0 1 1 1 0 1 1 0 0 1 0 0 1 1 1 1 0 1]\n"
    }
   ],
   "source": [
    "import numpy as np\n",
    "np.set_printoptions(suppress=True)\n",
    "import matplotlib.pyplot as plt\n",
    "import sklearn.datasets\n",
    "import sys\n",
    "sys.path.append('..')\n",
    "from utils import get_classification_data, show_data, visualise_predictions, colors\n",
    "\n",
    "m = 60\n",
    "n_features = 2\n",
    "n_classes = 2\n",
    "X, Y = get_classification_data(sd=10, m=60, n_clusters=n_classes, n_features=n_features)\n",
    "show_data(X, Y)\n",
    "print(X, Y)"
   ]
  },
  {
   "cell_type": "code",
   "execution_count": 18,
   "metadata": {
    "tags": []
   },
   "outputs": [],
   "source": [
    "class Node:\n",
    "    def __init__(self, data):\n",
    "        self.data = data\n",
    "        self.left = None\n",
    "        self.right = None\n",
    "    \n",
    "    def insertLeft(self, node):\n",
    "        self.left = node\n",
    "        return node\n",
    "    \n",
    "    def insertRight(self, node):\n",
    "        self.right = node\n",
    "        return node\n",
    "\n",
    "    def clearData(self):\n",
    "        self.data = None\n",
    "    \n",
    "    def showData(self, node):\n",
    "        if np.all(node.left.data):\n",
    "            print(\"left: \", node.left.data)\n",
    "        if np.all(node.right.data):\n",
    "            print(\"right: \", node.right.data)\n",
    "        if np.all(node.left.data) and np.all(node.right.data) and not node.data:\n",
    "            return None\n",
    "        self.showData(node.left)\n",
    "        self.showData(node.right)\n",
    "\n",
    "\n",
    "    "
   ]
  },
  {
   "cell_type": "code",
   "execution_count": 19,
   "metadata": {},
   "outputs": [],
   "source": [
    "class classificationTree:\n",
    "    def __init__(self,max_depth = 10):\n",
    "        self.max_depth = max_depth\n",
    "\n",
    "    def predict(self, X, y):       \n",
    "        # define functions\n",
    "        def find_best_split(X, y):\n",
    "            best_feature_idx = 0\n",
    "            best_impurity = 1\n",
    "            splitPoint = 0\n",
    "            for feature_idx, examples in enumerate(X.T): # loop through each feature\n",
    "                current_impurity, current_splitpoint = find_best_split_on_feature(examples, y)\n",
    "                # if this impurity is less than previous impurity, update best impurity, feature, and split point\n",
    "                if current_impurity < best_impurity:\n",
    "                    impurity = current_impurity\n",
    "                    best_feature_idx = feature_idx\n",
    "                    splitPoint = current_splitpoint\n",
    "            return best_feature_idx, splitPoint, best_impurity\n",
    "        \n",
    "        def find_best_split_on_feature(x, y): # takes in a list of examples for one feature\n",
    "            best_impurity = 1\n",
    "            best_split_point = 0\n",
    "            for i in range(len(x) - 1): # loop through Xs until X-1\n",
    "                splitPoint = np.mean((x[i], x[i+1]))\n",
    "                current_impurity = get_impurity(splitPoint, x, y)\n",
    "                # if this impurity is less the previous impurity, update best impurity and best split point\n",
    "                if current_impurity < best_impurity:\n",
    "                    best_impurity = current_impurity\n",
    "                    best_split_point = splitPoint\n",
    "            return best_impurity, best_split_point\n",
    "\n",
    "        \n",
    "        def get_impurity(split_point, x, y): # get the impurity\n",
    "            # print(x,y)\n",
    "            left_labels = y[x < split_point]\n",
    "            right_labels = y[x > split_point]\n",
    "            p_squared = 0\n",
    "\n",
    "            # run gini impurity for left side \n",
    "            for _class in np.unique(y): # gini_impurity_per_region()\n",
    "                class_count = np.count_nonzero(left_labels == _class) \n",
    "                p_squared += (class_count/len(left_labels))**2\n",
    "            left_side_impurity = 1 - p_squared\n",
    "\n",
    "            # run gini impurity for right side\n",
    "            p_squared = 0\n",
    "            for _class in np.unique(y): # gini_impurity_per_region()\n",
    "                class_count = np.count_nonzero(right_labels == _class) \n",
    "                p_squared += (class_count/len(right_labels))**2\n",
    "            right_side_impurity = 1 - p_squared\n",
    "\n",
    "            # return total gini impurity\n",
    "            proportion_left = len(left_labels) / len(x)\n",
    "            proportion_right = len(right_labels) / len(x)\n",
    "            impurity = proportion_left * left_side_impurity + proportion_right * right_side_impurity\n",
    "            return impurity \n",
    "            \n",
    "        \n",
    "        def grow_tree(node, y, depth): # recurring function to grow the tree\n",
    "            # get split point with lowest impurity\n",
    "            feature, split_point, impurity = find_best_split(node.data, y)   \n",
    "            if impurity > 0 and depth < self.max_depth: # check if node.data.impurity is greater than 0\n",
    "                # print(depth)\n",
    "                X = node.data\n",
    "                # put data of every feature into left_data if it is < split_point\n",
    "                left_idx = X[:, feature] < split_point\n",
    "                right_idx = X[:, feature] >= split_point\n",
    "                left_data = np.array([row[left_idx] for row in X.T]).T\n",
    "                left_y = y[left_idx]\n",
    "                # put data of every feature into right_data if it is >= split_point \n",
    "                right_data = np.array([row[right_idx] for row in X.T]).T\n",
    "                right_y = y[right_idx]\n",
    "                # print(left_data, right_data)\n",
    "\n",
    "                node.insertLeft(Node(left_data)) # insert left data into left node\n",
    "                node.insertRight(Node(right_data)) # insert right data into right node\n",
    "                node.clearData() # clearData in current node\n",
    "                # run grow_tree() on left node and right node\n",
    "                grow_tree(node.left, left_y, depth = depth + 1)\n",
    "                grow_tree(node.right, right_y, depth = depth + 1) \n",
    "        # create root node, initialise depth, and grow the classification tree\n",
    "        root = Node(X)\n",
    "        depth = 0\n",
    "        grow_tree(root, y, depth)\n",
    "        \n",
    "        return root\n",
    "\n",
    "    "
   ]
  },
  {
   "cell_type": "code",
   "execution_count": 20,
   "metadata": {
    "tags": []
   },
   "outputs": [
    {
     "output_type": "stream",
     "name": "stdout",
     "text": "left:  [[ 10.64324052 -18.00079983]\n [ -0.73757744 -24.07890938]\n [ 23.84725045 -28.02822129]\n [  6.98078443  -9.84664716]\n [  6.46140328 -14.1080369 ]\n [ -4.33972084 -12.17911921]\n [-10.85394353 -15.56014395]\n [ 11.90916874 -10.44128876]\n [  4.32265824 -10.50368923]\n [ -5.66059673 -10.50360969]\n [  9.73108984 -12.39968609]]\nright:  [[ -2.77535726  -7.92281797]\n [ -9.27048801  -8.54775487]\n [  1.72078792  -5.80749507]\n [-20.23661941  -5.13422075]\n [ -7.26890464  -6.19936235]\n [  1.19972484  -6.28457061]\n [-22.43876288  -8.27111227]\n [-19.35906057  -8.42680996]\n [ 10.31178105  -6.07356638]]\nleft:  [[ 8.31930004 -2.35126499]\n [-4.46673585 -4.88115012]\n [-6.75911458 -2.82999041]\n [-7.33112218 -2.65418696]]\nright:  [[ 10.93299955  -0.11585962]\n [-11.82625243  -1.44242862]\n [  8.51309149   4.35026987]\n [  3.77001858   0.85136447]\n [ -8.55814303   2.70186858]\n [  8.13419832   0.27317704]\n [  1.44001065  -0.78662226]\n [  5.52230855  -1.47503991]\n [ -4.32626475  -0.23678437]\n [ -5.40857456  -0.62838594]\n [ -4.58623057   1.17580431]\n [  3.58855907   4.42060796]\n [-16.61246038  -0.56018718]\n [  3.76583837   0.74765909]\n [ 10.13947522  -1.1315682 ]\n [ 10.86247288   8.10162947]]\nleft:  [[-10.95662143   9.69660506]\n [ 13.27460738   8.54733998]]\nright:  [[23.06207966 10.3663141 ]\n [ 9.05260267 11.26113684]\n [-7.02680528 10.98562098]]\nleft:  [[-0.8476669  12.40018427]\n [15.40018097 11.67367693]]\nright:  [[  0.47659733  20.54369011]\n [  4.57624962  13.49420582]\n [ -1.06746752  24.365547  ]\n [-13.98199988  21.88160601]\n [ -6.2731504   21.38390447]\n [-11.46706367  20.25995926]\n [ -1.324229    15.59663232]\n [ -3.86348888  18.72529929]\n [  2.58845724  22.74658694]\n [ -6.88847729  14.00442579]\n [ 11.46469524  22.6154078 ]\n [ 30.66259345  17.50194659]\n [ -3.35464982  14.47544838]]\n"
    }
   ],
   "source": [
    "model = classificationTree(3)\n",
    "root = model.predict(X, Y)\n",
    "root.showData(root)"
   ]
  },
  {
   "cell_type": "code",
   "execution_count": null,
   "metadata": {},
   "outputs": [],
   "source": []
  }
 ]
}